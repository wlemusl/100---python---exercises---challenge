{
 "cells": [
  {
   "cell_type": "markdown",
   "id": "effective-momentum",
   "metadata": {},
   "source": [
    "### Day 4"
   ]
  },
  {
   "cell_type": "markdown",
   "id": "devoted-opening",
   "metadata": {},
   "source": [
    "**Question 14**"
   ]
  },
  {
   "cell_type": "markdown",
   "id": "pediatric-controversy",
   "metadata": {},
   "source": [
    "Write a program that accepts a sentence and calculate the number of upper case letters and lower case letters.\n",
    "\n",
    "Suppose the following input is supplied to the program:"
   ]
  },
  {
   "cell_type": "markdown",
   "id": "monetary-recovery",
   "metadata": {},
   "source": [
    "Hello world!"
   ]
  },
  {
   "cell_type": "markdown",
   "id": "instant-albert",
   "metadata": {},
   "source": [
    "Then, the output should be:"
   ]
  },
  {
   "cell_type": "markdown",
   "id": "binary-election",
   "metadata": {},
   "source": [
    "UPPER CASE: 1\n",
    "\n",
    "lower case: 9"
   ]
  },
  {
   "cell_type": "code",
   "execution_count": 1,
   "id": "seeing-adapter",
   "metadata": {},
   "outputs": [
    {
     "name": "stdout",
     "output_type": "stream",
     "text": [
      "Input a sentence with upper and lower case letters: Hello world!\n",
      "UPPER CASE:  1\n",
      "lower case:  9\n"
     ]
    }
   ],
   "source": [
    "inputs = input(\"Input a sentence with upper and lower case letters: \")\n",
    "\n",
    "lower = 0\n",
    "upper = 0\n",
    "\n",
    "for i in inputs:\n",
    "    if i.isalpha():\n",
    "        if i.islower():\n",
    "            lower +=1\n",
    "        else:\n",
    "            upper +=1\n",
    "\n",
    "print(\"UPPER CASE: \", upper)\n",
    "print(\"lower case: \", lower)"
   ]
  },
  {
   "cell_type": "markdown",
   "id": "baking-cassette",
   "metadata": {},
   "source": [
    "**Question 15**"
   ]
  },
  {
   "cell_type": "markdown",
   "id": "shared-radiation",
   "metadata": {},
   "source": [
    "Write a program that computes the value of a+aa+aaa+aaaa with a given digit as the value of a.\n",
    "\n",
    "Suppose the following input is supplied to the program:"
   ]
  },
  {
   "cell_type": "markdown",
   "id": "heard-pearl",
   "metadata": {},
   "source": [
    "9"
   ]
  },
  {
   "cell_type": "markdown",
   "id": "timely-explosion",
   "metadata": {},
   "source": [
    "Then, the output should be:"
   ]
  },
  {
   "cell_type": "markdown",
   "id": "vocational-ridge",
   "metadata": {},
   "source": [
    "11106"
   ]
  },
  {
   "cell_type": "code",
   "execution_count": 2,
   "id": "restricted-nature",
   "metadata": {},
   "outputs": [
    {
     "name": "stdout",
     "output_type": "stream",
     "text": [
      "Input one digit between 0 and 9: 9\n"
     ]
    },
    {
     "data": {
      "text/plain": [
       "11106"
      ]
     },
     "execution_count": 2,
     "metadata": {},
     "output_type": "execute_result"
    }
   ],
   "source": [
    "a = str(input(\"Input one digit between 0 and 9: \"))\n",
    "\n",
    "b = [int(a*i) for i in range(1,5)]\n",
    "c = sum(b)\n",
    "c"
   ]
  },
  {
   "cell_type": "markdown",
   "id": "conventional-reflection",
   "metadata": {},
   "source": [
    "### Day 5"
   ]
  },
  {
   "cell_type": "markdown",
   "id": "metropolitan-paste",
   "metadata": {},
   "source": [
    "**Question 16**"
   ]
  },
  {
   "cell_type": "markdown",
   "id": "narrative-contrary",
   "metadata": {},
   "source": [
    "Use a list comprehension to square each odd number in a list. The list is input by a sequence of comma-separated numbers. Suppose the following input is supplied to the program:"
   ]
  },
  {
   "cell_type": "markdown",
   "id": "numeric-discount",
   "metadata": {},
   "source": [
    "1,2,3,4,5,6,7,8,9"
   ]
  },
  {
   "cell_type": "markdown",
   "id": "raising-providence",
   "metadata": {},
   "source": [
    "Then, the output should be:"
   ]
  },
  {
   "cell_type": "markdown",
   "id": "stretch-cruise",
   "metadata": {},
   "source": [
    "1,9,25,49,81"
   ]
  },
  {
   "cell_type": "code",
   "execution_count": 3,
   "id": "operating-converter",
   "metadata": {},
   "outputs": [
    {
     "name": "stdout",
     "output_type": "stream",
     "text": [
      "Input a sequence of comma-separated numbers: 1,2,3,4,5,6,7,8,9\n",
      "1,9,25,49,81\n"
     ]
    }
   ],
   "source": [
    "inputs = list(map(int, input(\"Input a sequence of comma-separated numbers: \").split(\",\")))\n",
    "\n",
    "output = [str(i**2) for i in inputs if i%2 !=0]\n",
    "print(\",\".join(output))"
   ]
  },
  {
   "cell_type": "markdown",
   "id": "solar-boards",
   "metadata": {},
   "source": [
    "**Question 17**"
   ]
  },
  {
   "cell_type": "markdown",
   "id": "interpreted-colorado",
   "metadata": {},
   "source": [
    "Write a program that computes the net amount of a bank account based on a transaction log from console input. The transaction log format is shown as following:"
   ]
  },
  {
   "cell_type": "markdown",
   "id": "ready-hello",
   "metadata": {},
   "source": [
    "D 100\n",
    "\n",
    "W 200"
   ]
  },
  {
   "cell_type": "markdown",
   "id": "healthy-glossary",
   "metadata": {},
   "source": [
    "D means deposit while W means withdrawal."
   ]
  },
  {
   "cell_type": "markdown",
   "id": "bearing-destruction",
   "metadata": {},
   "source": [
    "Suppose the following input is supplied to the program:"
   ]
  },
  {
   "cell_type": "markdown",
   "id": "lyric-colonial",
   "metadata": {},
   "source": [
    "D 300\n",
    "\n",
    "D 300\n",
    "\n",
    "W 200\n",
    "\n",
    "D 100"
   ]
  },
  {
   "cell_type": "markdown",
   "id": "immediate-candle",
   "metadata": {},
   "source": [
    "Then, the output should be:"
   ]
  },
  {
   "cell_type": "markdown",
   "id": "distant-sellers",
   "metadata": {},
   "source": [
    "500"
   ]
  },
  {
   "cell_type": "code",
   "execution_count": 4,
   "id": "centered-stretch",
   "metadata": {},
   "outputs": [
    {
     "name": "stdout",
     "output_type": "stream",
     "text": [
      "Input a transaction: D 300\n",
      "Press c to continue or q to quit: c\n",
      "Input a transaction: D 300\n",
      "Press c to continue or q to quit: c\n",
      "Input a transaction: W 200\n",
      "Press c to continue or q to quit: c\n",
      "Input a transaction: D 100\n",
      "Press c to continue or q to quit: q\n",
      "The net amount of this bank account is:  500\n"
     ]
    }
   ],
   "source": [
    "types = []\n",
    "money = []\n",
    "net = 0\n",
    "\n",
    "while True:\n",
    "    x, y = input('Input a transaction: ').split()\n",
    "    types.append(x)\n",
    "    money.append(y)\n",
    "    if x == 'D' or x == 'd':\n",
    "        net += int(y)\n",
    "    if x == 'W' or x == 'w':\n",
    "        net -= int(y)\n",
    "    stay_quit = input(\"Press c to continue or q to quit: \")\n",
    "    if stay_quit == \"q\" or stay_quit == 'quit':\n",
    "        break\n",
    "print(\"The net amount of this bank account is: \", net)       "
   ]
  },
  {
   "cell_type": "markdown",
   "id": "approximate-sphere",
   "metadata": {},
   "source": [
    "### Day 6"
   ]
  },
  {
   "cell_type": "markdown",
   "id": "stunning-policy",
   "metadata": {},
   "source": [
    "**Question 18**"
   ]
  },
  {
   "cell_type": "markdown",
   "id": "chemical-juice",
   "metadata": {},
   "source": [
    "A website requires the users to input username and password to register. Write a program to check the validity of password input by users."
   ]
  },
  {
   "cell_type": "markdown",
   "id": "communist-beatles",
   "metadata": {},
   "source": [
    "Following are the criteria for checking the password:"
   ]
  },
  {
   "cell_type": "markdown",
   "id": "outstanding-affiliation",
   "metadata": {},
   "source": [
    "1. At least 1 letter between [a-z]\n",
    "2. At least 1 number between [0-9]\n",
    "3. At least 1 letter between [A-Z]\n",
    "4. At least 1 character from [$#@]\n",
    "5. Minimum length of transaction password: 6\n",
    "6. Maximum length of transaction password: 12"
   ]
  },
  {
   "cell_type": "markdown",
   "id": "modern-matthew",
   "metadata": {},
   "source": [
    "Your program should accept a sequence of comma separated passwords and will check them according to the above criteria. Passwords that match the criteria are to be printed, each separated by a comma. Example:"
   ]
  },
  {
   "cell_type": "markdown",
   "id": "worldwide-emergency",
   "metadata": {},
   "source": [
    "If the following passwords are given as input to the program:"
   ]
  },
  {
   "cell_type": "markdown",
   "id": "fewer-words",
   "metadata": {},
   "source": [
    "ABd1234@1,a F1#,2w3E*,2We3345"
   ]
  },
  {
   "cell_type": "markdown",
   "id": "considerable-framing",
   "metadata": {},
   "source": [
    "Then, the output of the program should be:"
   ]
  },
  {
   "cell_type": "markdown",
   "id": "yellow-currency",
   "metadata": {},
   "source": [
    "ABd1234@1"
   ]
  },
  {
   "cell_type": "code",
   "execution_count": 5,
   "id": "tested-console",
   "metadata": {},
   "outputs": [
    {
     "name": "stdout",
     "output_type": "stream",
     "text": [
      "Input a sequence of comma separated passwords: ABd1234@1,a F1#,2w3E*,2We3345\n",
      "ABd1234@1\n"
     ]
    }
   ],
   "source": [
    "passwords = input(\"Input a sequence of comma separated passwords: \").split(\",\")\n",
    "valid_pws = []\n",
    "\n",
    "for pw in passwords:\n",
    "    #flag > 0 means password fulfills criteria, and flag = 0 means it does NOT.\n",
    "    flag_length = 0\n",
    "    flag_lower = 0\n",
    "    flag_upper = 0\n",
    "    flag_number = 0\n",
    "    flag_char = 0\n",
    "    chars = ['$', '#', '@']\n",
    "    \n",
    "    if len(pw) <= 12 and len(pw) >= 6:\n",
    "        flag_length += 1\n",
    "        for i in pw:\n",
    "            if 'a' <= i and i <= 'z':\n",
    "                flag_lower += 1\n",
    "            if 'A' <= i and i <= 'Z':\n",
    "                flag_upper += 1\n",
    "            try:\n",
    "                int(i)\n",
    "                flag_number += 1\n",
    "            except:\n",
    "                pass\n",
    "            if i in chars:\n",
    "                flag_char += 1\n",
    "    if all(x >= 1 for x in (flag_length, flag_lower, flag_upper, flag_number, flag_char)):\n",
    "        valid_pws.append(pw)\n",
    "\n",
    "print(\",\".join(valid_pws))"
   ]
  },
  {
   "cell_type": "markdown",
   "id": "mineral-vintage",
   "metadata": {},
   "source": [
    "**Question 19**"
   ]
  },
  {
   "cell_type": "markdown",
   "id": "infectious-catch",
   "metadata": {},
   "source": [
    "You are required to write a program to sort the (name, age, score) tuples by ascending order where name is string, age and score are numbers. The tuples are input by console. The sort criteria is:"
   ]
  },
  {
   "cell_type": "markdown",
   "id": "broken-collar",
   "metadata": {},
   "source": [
    "1. Sort based on name\n",
    "2. Then sort based on age\n",
    "3. Then sort by score"
   ]
  },
  {
   "cell_type": "markdown",
   "id": "metallic-friday",
   "metadata": {},
   "source": [
    "The priority is that name > age > score."
   ]
  },
  {
   "cell_type": "markdown",
   "id": "plain-enclosure",
   "metadata": {},
   "source": [
    "If the following tuples are given as input to the program:"
   ]
  },
  {
   "cell_type": "markdown",
   "id": "commercial-incidence",
   "metadata": {},
   "source": [
    "Tom,19,80\n",
    "\n",
    "John,20,90\n",
    "\n",
    "Jony,17,91\n",
    "\n",
    "Jony,17,93\n",
    "\n",
    "Json,21,85"
   ]
  },
  {
   "cell_type": "markdown",
   "id": "alternative-wealth",
   "metadata": {},
   "source": [
    "Then, the output of the program should be:"
   ]
  },
  {
   "cell_type": "markdown",
   "id": "round-pipeline",
   "metadata": {},
   "source": [
    "[('John', '20', '90'), ('Jony', '17', '91'), ('Jony', '17', '93'), ('Json', '21', '85'), ('Tom', '19', '80')]"
   ]
  },
  {
   "cell_type": "code",
   "execution_count": 6,
   "id": "ranging-bible",
   "metadata": {},
   "outputs": [
    {
     "name": "stdout",
     "output_type": "stream",
     "text": [
      "Input name,age,score of one student: Tom,19,80\n",
      "Press c to continue or q to quit: c\n",
      "Input name,age,score of one student: John,20,90\n",
      "Press c to continue or q to quit: c\n",
      "Input name,age,score of one student: Jony,17,91\n",
      "Press c to continue or q to quit: c\n",
      "Input name,age,score of one student: Jony,17,93\n",
      "Press c to continue or q to quit: c\n",
      "Input name,age,score of one student: Json,21,85\n",
      "Press c to continue or q to quit: q\n",
      "[('John', 20, 90), ('Jony', 17, 91), ('Jony', 17, 93), ('Json', 21, 85), ('Tom', 19, 80)]\n"
     ]
    }
   ],
   "source": [
    "inputs = []\n",
    "while True:\n",
    "    x, y, z = input('Input name,age,score of one student: ').split(\",\")\n",
    "    inputs.append((x,int(y),int(z)))\n",
    "    stay_quit = input(\"Press c to continue or q to quit: \")\n",
    "    if stay_quit == \"q\" or stay_quit == 'quit':\n",
    "        break\n",
    "inputs.sort()\n",
    "print(inputs)"
   ]
  }
 ],
 "metadata": {
  "kernelspec": {
   "display_name": "Python 3",
   "language": "python",
   "name": "python3"
  },
  "language_info": {
   "codemirror_mode": {
    "name": "ipython",
    "version": 3
   },
   "file_extension": ".py",
   "mimetype": "text/x-python",
   "name": "python",
   "nbconvert_exporter": "python",
   "pygments_lexer": "ipython3",
   "version": "3.8.3"
  },
  "toc": {
   "base_numbering": 1,
   "nav_menu": {},
   "number_sections": true,
   "sideBar": true,
   "skip_h1_title": false,
   "title_cell": "Table of Contents",
   "title_sidebar": "Contents",
   "toc_cell": false,
   "toc_position": {},
   "toc_section_display": true,
   "toc_window_display": false
  }
 },
 "nbformat": 4,
 "nbformat_minor": 5
}

{
 "cells": [
  {
   "cell_type": "markdown",
   "id": "worthy-thunder",
   "metadata": {},
   "source": [
    "### Day 22"
   ]
  },
  {
   "cell_type": "markdown",
   "id": "first-agreement",
   "metadata": {},
   "source": [
    "**Question 90**"
   ]
  },
  {
   "cell_type": "markdown",
   "id": "determined-rolling",
   "metadata": {},
   "source": [
    "Please write a program which count and print the numbers of each character in a string input by console.\n",
    "\n",
    "Example: If the following string is given as input to the program:\n",
    "\n",
    "abcdefgabc\n",
    "\n",
    "Then, the output of the program should be:\n",
    "\n",
    "a,2\n",
    "\n",
    "c,2\n",
    "\n",
    "b,2\n",
    "\n",
    "e,1\n",
    "\n",
    "d,1\n",
    "\n",
    "g,1\n",
    "\n",
    "f,1"
   ]
  },
  {
   "cell_type": "code",
   "execution_count": 1,
   "id": "divine-subdivision",
   "metadata": {},
   "outputs": [
    {
     "name": "stdout",
     "output_type": "stream",
     "text": [
      "Please input your string: abcdefgabc\n",
      "a,2\n",
      "b,2\n",
      "c,2\n",
      "d,1\n",
      "e,1\n",
      "f,1\n",
      "g,1\n"
     ]
    }
   ],
   "source": [
    "string = input('Please input your string: ')\n",
    "\n",
    "result = {}\n",
    "\n",
    "for letter in string:\n",
    "    if letter not in result:\n",
    "        result[letter] = string.count(letter)\n",
    "        \n",
    "for key, value in result.items():\n",
    "    print('{},{}'.format(key, value))"
   ]
  },
  {
   "cell_type": "markdown",
   "id": "isolated-drawing",
   "metadata": {},
   "source": [
    "**Question 91**"
   ]
  },
  {
   "cell_type": "markdown",
   "id": "large-recycling",
   "metadata": {},
   "source": [
    "Please write a program which accepts a string from console and print it in reverse order.\n",
    "\n",
    "Example: If the following string is given as input to the program:\n",
    "\n",
    "rise to vote sir\n",
    "\n",
    "Then, the output of the program should be:\n",
    "\n",
    "ris etov ot esir"
   ]
  },
  {
   "cell_type": "code",
   "execution_count": 2,
   "id": "palestinian-retirement",
   "metadata": {},
   "outputs": [
    {
     "name": "stdout",
     "output_type": "stream",
     "text": [
      "Please input your string: rise to vote sir\n"
     ]
    },
    {
     "data": {
      "text/plain": [
       "'ris etov ot esir'"
      ]
     },
     "execution_count": 2,
     "metadata": {},
     "output_type": "execute_result"
    }
   ],
   "source": [
    "string = input('Please input your string: ')\n",
    "result = string[::-1]\n",
    "result"
   ]
  },
  {
   "cell_type": "markdown",
   "id": "linear-enzyme",
   "metadata": {},
   "source": [
    "**Question 92**"
   ]
  },
  {
   "cell_type": "markdown",
   "id": "weighted-rebate",
   "metadata": {},
   "source": [
    "Please write a program which accepts a string from console and print the characters that have even indexes.\n",
    "\n",
    "Example: If the following string is given as input to the program:\n",
    "\n",
    "H1e2l3l4o5w6o7r8l9d\n",
    "\n",
    "Then, the output of the program should be:\n",
    "\n",
    "Helloworld"
   ]
  },
  {
   "cell_type": "code",
   "execution_count": 3,
   "id": "silent-transformation",
   "metadata": {},
   "outputs": [
    {
     "name": "stdout",
     "output_type": "stream",
     "text": [
      "Please input your string: H1e2l3l4o5w6o7r8l9d\n",
      "Helloworld\n"
     ]
    }
   ],
   "source": [
    "string = input('Please input your string: ')\n",
    "\n",
    "even = []\n",
    "for i in range(len(string)):\n",
    "    if i%2 == 0:\n",
    "        even.append(string[i])\n",
    "        \n",
    "print(''.join(even))"
   ]
  },
  {
   "cell_type": "markdown",
   "id": "annoying-perfume",
   "metadata": {},
   "source": [
    "**Question 93**"
   ]
  },
  {
   "cell_type": "markdown",
   "id": "oriented-mechanism",
   "metadata": {},
   "source": [
    "Please write a program which prints all permutations of [1,2,3]"
   ]
  },
  {
   "cell_type": "code",
   "execution_count": 4,
   "id": "handy-dodge",
   "metadata": {},
   "outputs": [
    {
     "data": {
      "text/plain": [
       "[(1, 2, 3), (1, 3, 2), (2, 1, 3), (2, 3, 1), (3, 1, 2), (3, 2, 1)]"
      ]
     },
     "execution_count": 4,
     "metadata": {},
     "output_type": "execute_result"
    }
   ],
   "source": [
    "from itertools import permutations\n",
    "\n",
    "inputs = [1,2,3]\n",
    "\n",
    "result = list(permutations(inputs))\n",
    "result"
   ]
  },
  {
   "cell_type": "markdown",
   "id": "opening-syracuse",
   "metadata": {},
   "source": [
    "**Question 94**"
   ]
  },
  {
   "cell_type": "markdown",
   "id": "rental-stamp",
   "metadata": {},
   "source": [
    "Write a program to solve a classic ancient Chinese puzzle: We count 35 heads and 94 legs among the chickens and rabbits in a farm. How many rabbits and how many chickens do we have?"
   ]
  },
  {
   "cell_type": "code",
   "execution_count": 5,
   "id": "dramatic-massachusetts",
   "metadata": {},
   "outputs": [
    {
     "data": {
      "text/plain": [
       "[[23, 12]]"
      ]
     },
     "execution_count": 5,
     "metadata": {},
     "output_type": "execute_result"
    }
   ],
   "source": [
    "x = [i for i in range(1,50)] # x is for chickens\n",
    "y = [i for i in range(1,25)] # y is for rabbits\n",
    "\n",
    "total = 35 # total is equal to x + y\n",
    "\n",
    "solutions = []\n",
    "\n",
    "for i in x:\n",
    "    for j in y:\n",
    "        if 2*i + 4*j == 94 and i+j==total:\n",
    "            solutions.append([i, j])\n",
    "\n",
    "solutions"
   ]
  },
  {
   "cell_type": "markdown",
   "id": "modular-harris",
   "metadata": {},
   "source": [
    "### Day 23"
   ]
  },
  {
   "cell_type": "markdown",
   "id": "parallel-finger",
   "metadata": {},
   "source": [
    "**Question 95**"
   ]
  },
  {
   "cell_type": "markdown",
   "id": "abroad-bradford",
   "metadata": {},
   "source": [
    "Given the participants' score sheet for your University Sports Day, you are required to find the runner-up score. You are given scores. Store them in a list and find the score of the runner-up.\n",
    "\n",
    "If the following string is given as input to the program:\n",
    "\n",
    "5 2 3 6 6 5\n",
    "\n",
    "Then, the output of the program should be:\n",
    "\n",
    "5"
   ]
  },
  {
   "cell_type": "code",
   "execution_count": 6,
   "id": "numerous-swift",
   "metadata": {},
   "outputs": [
    {
     "name": "stdout",
     "output_type": "stream",
     "text": [
      "Please input the scores of participants: 5 2 3 6 6 5\n"
     ]
    },
    {
     "data": {
      "text/plain": [
       "'5'"
      ]
     },
     "execution_count": 6,
     "metadata": {},
     "output_type": "execute_result"
    }
   ],
   "source": [
    "scores = list(input('Please input the scores of participants: ').split(' '))\n",
    "\n",
    "scores = list(set(scores))\n",
    "scores.remove(max(scores))\n",
    "result = max(scores)\n",
    "result"
   ]
  },
  {
   "cell_type": "markdown",
   "id": "horizontal-infrastructure",
   "metadata": {},
   "source": [
    "**Question 96**"
   ]
  },
  {
   "cell_type": "markdown",
   "id": "willing-soviet",
   "metadata": {},
   "source": [
    "You are given a string S and width W. Your task is to wrap the string into a paragraph of width.\n",
    "\n",
    "If the following string is given as input to the program:\n",
    "\n",
    "ABCDEFGHIJKLIMNOQRSTUVWXYZ 4\n",
    "\n",
    "Then, the output of the program should be:\n",
    "\n",
    "ABCD EFGH IJKL IMNO QRST UVWX YZ"
   ]
  },
  {
   "cell_type": "code",
   "execution_count": 7,
   "id": "coordinate-horse",
   "metadata": {},
   "outputs": [
    {
     "name": "stdout",
     "output_type": "stream",
     "text": [
      "ABCDEFGHIJKLIMNOQRSTUVWXYZ 4\n",
      "ABCD EFGH IJKL IMNO QRST UVWX YZ\n"
     ]
    }
   ],
   "source": [
    "import textwrap\n",
    "\n",
    "inputs = list(input('').split(' '))\n",
    "\n",
    "result = textwrap.wrap(inputs[0], int(inputs[1]))\n",
    "print(' '.join(result))"
   ]
  },
  {
   "cell_type": "markdown",
   "id": "satisfactory-return",
   "metadata": {},
   "source": [
    "**Question 97**"
   ]
  },
  {
   "cell_type": "markdown",
   "id": "generic-industry",
   "metadata": {},
   "source": [
    "You are given an integer, N. Your task is to print an alphabet rangoli of size N. (Rangoli is a form of Indian folk art based on creation of patterns.)\n",
    "\n",
    "Different sizes of alphabet rangoli are shown below:\n",
    "\n",
    "$size = 5$\n",
    "\n",
    "--------e--------\n",
    "\n",
    "------e-d-e------\n",
    "\n",
    "----e-d-c-d-e----\n",
    "\n",
    "--e-d-c-b-c-d-e--\n",
    "\n",
    "e-d-c-b-a-b-c-d-e\n",
    "\n",
    "--e-d-c-b-c-d-e--\n",
    "\n",
    "----e-d-c-d-e----\n",
    "\n",
    "------e-d-e------\n",
    "\n",
    "--------e--------"
   ]
  },
  {
   "cell_type": "code",
   "execution_count": 8,
   "id": "catholic-oregon",
   "metadata": {},
   "outputs": [
    {
     "name": "stdout",
     "output_type": "stream",
     "text": [
      "Please enter a number from 1 to 26: 26\n",
      "--------------------------------------------------z--------------------------------------------------\n",
      "------------------------------------------------y-z-y------------------------------------------------\n",
      "----------------------------------------------x-y-z-y-x----------------------------------------------\n",
      "--------------------------------------------w-x-y-z-y-x-w--------------------------------------------\n",
      "------------------------------------------v-w-x-y-z-y-x-w-v------------------------------------------\n",
      "----------------------------------------u-v-w-x-y-z-y-x-w-v-u----------------------------------------\n",
      "--------------------------------------t-u-v-w-x-y-z-y-x-w-v-u-t--------------------------------------\n",
      "------------------------------------s-t-u-v-w-x-y-z-y-x-w-v-u-t-s------------------------------------\n",
      "----------------------------------r-s-t-u-v-w-x-y-z-y-x-w-v-u-t-s-r----------------------------------\n",
      "--------------------------------q-r-s-t-u-v-w-x-y-z-y-x-w-v-u-t-s-r-q--------------------------------\n",
      "------------------------------p-q-r-s-t-u-v-w-x-y-z-y-x-w-v-u-t-s-r-q-p------------------------------\n",
      "----------------------------o-p-q-r-s-t-u-v-w-x-y-z-y-x-w-v-u-t-s-r-q-p-o----------------------------\n",
      "--------------------------n-o-p-q-r-s-t-u-v-w-x-y-z-y-x-w-v-u-t-s-r-q-p-o-n--------------------------\n",
      "------------------------m-n-o-p-q-r-s-t-u-v-w-x-y-z-y-x-w-v-u-t-s-r-q-p-o-n-m------------------------\n",
      "----------------------l-m-n-o-p-q-r-s-t-u-v-w-x-y-z-y-x-w-v-u-t-s-r-q-p-o-n-m-l----------------------\n",
      "--------------------k-l-m-n-o-p-q-r-s-t-u-v-w-x-y-z-y-x-w-v-u-t-s-r-q-p-o-n-m-l-k--------------------\n",
      "------------------j-k-l-m-n-o-p-q-r-s-t-u-v-w-x-y-z-y-x-w-v-u-t-s-r-q-p-o-n-m-l-k-j------------------\n",
      "----------------i-j-k-l-m-n-o-p-q-r-s-t-u-v-w-x-y-z-y-x-w-v-u-t-s-r-q-p-o-n-m-l-k-j-i----------------\n",
      "--------------h-i-j-k-l-m-n-o-p-q-r-s-t-u-v-w-x-y-z-y-x-w-v-u-t-s-r-q-p-o-n-m-l-k-j-i-h--------------\n",
      "------------g-h-i-j-k-l-m-n-o-p-q-r-s-t-u-v-w-x-y-z-y-x-w-v-u-t-s-r-q-p-o-n-m-l-k-j-i-h-g------------\n",
      "----------f-g-h-i-j-k-l-m-n-o-p-q-r-s-t-u-v-w-x-y-z-y-x-w-v-u-t-s-r-q-p-o-n-m-l-k-j-i-h-g-f----------\n",
      "--------e-f-g-h-i-j-k-l-m-n-o-p-q-r-s-t-u-v-w-x-y-z-y-x-w-v-u-t-s-r-q-p-o-n-m-l-k-j-i-h-g-f-e--------\n",
      "------d-e-f-g-h-i-j-k-l-m-n-o-p-q-r-s-t-u-v-w-x-y-z-y-x-w-v-u-t-s-r-q-p-o-n-m-l-k-j-i-h-g-f-e-d------\n",
      "----c-d-e-f-g-h-i-j-k-l-m-n-o-p-q-r-s-t-u-v-w-x-y-z-y-x-w-v-u-t-s-r-q-p-o-n-m-l-k-j-i-h-g-f-e-d-c----\n",
      "--b-c-d-e-f-g-h-i-j-k-l-m-n-o-p-q-r-s-t-u-v-w-x-y-z-y-x-w-v-u-t-s-r-q-p-o-n-m-l-k-j-i-h-g-f-e-d-c-b--\n",
      "a-b-c-d-e-f-g-h-i-j-k-l-m-n-o-p-q-r-s-t-u-v-w-x-y-z-y-x-w-v-u-t-s-r-q-p-o-n-m-l-k-j-i-h-g-f-e-d-c-b-a\n",
      "--b-c-d-e-f-g-h-i-j-k-l-m-n-o-p-q-r-s-t-u-v-w-x-y-z-y-x-w-v-u-t-s-r-q-p-o-n-m-l-k-j-i-h-g-f-e-d-c-b--\n",
      "----c-d-e-f-g-h-i-j-k-l-m-n-o-p-q-r-s-t-u-v-w-x-y-z-y-x-w-v-u-t-s-r-q-p-o-n-m-l-k-j-i-h-g-f-e-d-c----\n",
      "------d-e-f-g-h-i-j-k-l-m-n-o-p-q-r-s-t-u-v-w-x-y-z-y-x-w-v-u-t-s-r-q-p-o-n-m-l-k-j-i-h-g-f-e-d------\n",
      "--------e-f-g-h-i-j-k-l-m-n-o-p-q-r-s-t-u-v-w-x-y-z-y-x-w-v-u-t-s-r-q-p-o-n-m-l-k-j-i-h-g-f-e--------\n",
      "----------f-g-h-i-j-k-l-m-n-o-p-q-r-s-t-u-v-w-x-y-z-y-x-w-v-u-t-s-r-q-p-o-n-m-l-k-j-i-h-g-f----------\n",
      "------------g-h-i-j-k-l-m-n-o-p-q-r-s-t-u-v-w-x-y-z-y-x-w-v-u-t-s-r-q-p-o-n-m-l-k-j-i-h-g------------\n",
      "--------------h-i-j-k-l-m-n-o-p-q-r-s-t-u-v-w-x-y-z-y-x-w-v-u-t-s-r-q-p-o-n-m-l-k-j-i-h--------------\n",
      "----------------i-j-k-l-m-n-o-p-q-r-s-t-u-v-w-x-y-z-y-x-w-v-u-t-s-r-q-p-o-n-m-l-k-j-i----------------\n",
      "------------------j-k-l-m-n-o-p-q-r-s-t-u-v-w-x-y-z-y-x-w-v-u-t-s-r-q-p-o-n-m-l-k-j------------------\n",
      "--------------------k-l-m-n-o-p-q-r-s-t-u-v-w-x-y-z-y-x-w-v-u-t-s-r-q-p-o-n-m-l-k--------------------\n",
      "----------------------l-m-n-o-p-q-r-s-t-u-v-w-x-y-z-y-x-w-v-u-t-s-r-q-p-o-n-m-l----------------------\n",
      "------------------------m-n-o-p-q-r-s-t-u-v-w-x-y-z-y-x-w-v-u-t-s-r-q-p-o-n-m------------------------\n",
      "--------------------------n-o-p-q-r-s-t-u-v-w-x-y-z-y-x-w-v-u-t-s-r-q-p-o-n--------------------------\n",
      "----------------------------o-p-q-r-s-t-u-v-w-x-y-z-y-x-w-v-u-t-s-r-q-p-o----------------------------\n",
      "------------------------------p-q-r-s-t-u-v-w-x-y-z-y-x-w-v-u-t-s-r-q-p------------------------------\n",
      "--------------------------------q-r-s-t-u-v-w-x-y-z-y-x-w-v-u-t-s-r-q--------------------------------\n",
      "----------------------------------r-s-t-u-v-w-x-y-z-y-x-w-v-u-t-s-r----------------------------------\n",
      "------------------------------------s-t-u-v-w-x-y-z-y-x-w-v-u-t-s------------------------------------\n",
      "--------------------------------------t-u-v-w-x-y-z-y-x-w-v-u-t--------------------------------------\n",
      "----------------------------------------u-v-w-x-y-z-y-x-w-v-u----------------------------------------\n",
      "------------------------------------------v-w-x-y-z-y-x-w-v------------------------------------------\n",
      "--------------------------------------------w-x-y-z-y-x-w--------------------------------------------\n",
      "----------------------------------------------x-y-z-y-x----------------------------------------------\n",
      "------------------------------------------------y-z-y------------------------------------------------\n",
      "--------------------------------------------------z--------------------------------------------------\n"
     ]
    }
   ],
   "source": [
    "import string\n",
    "\n",
    "N = int(input('Please enter a number from 1 to 26: '))\n",
    "x = N + N - 2\n",
    "\n",
    "letters = []\n",
    "for i in range(1,N+1):\n",
    "    letters.append(string.ascii_lowercase[N-i])\n",
    "\n",
    "lines = []\n",
    "\n",
    "# append the first line into the list lines.\n",
    "line = '-'*x+letters[0]+'-'*x\n",
    "lines.append(line)\n",
    "\n",
    "for i in range(N-1):\n",
    "        center = len(lines[i])//2\n",
    "        right = int(center + (i+1)*2)\n",
    "        left = int(center - (i+1)*2)\n",
    "        next_line = list(lines[i])\n",
    "        next_line[right] = letters[(i+1)]\n",
    "        next_line[left] = letters[(i+1)]\n",
    "        next_line = \"\".join(next_line)\n",
    "        lines.append(next_line)\n",
    "\n",
    "for i in range(0,len(lines)):\n",
    "    print(lines[i])\n",
    "    \n",
    "for i in reversed(range(len(lines)-1)):\n",
    "    print(lines[i])         "
   ]
  },
  {
   "cell_type": "code",
   "execution_count": 9,
   "id": "fabulous-display",
   "metadata": {},
   "outputs": [
    {
     "name": "stdout",
     "output_type": "stream",
     "text": [
      "----c----\n",
      "--c-b-c--\n",
      "c-b-a-b-c\n",
      "--c-b-c--\n",
      "----c----\n"
     ]
    }
   ],
   "source": [
    "# this is just to understand the pattern of an alphabet rangoli.\n",
    "\n",
    "import string\n",
    "\n",
    "N = 3\n",
    "\n",
    "factor = N - 2\n",
    "x = N + factor\n",
    "\n",
    "#round 1\n",
    "letter = string.ascii_lowercase[N-1]\n",
    "a = '-'*x+letter+'-'*x\n",
    "print(a, sep='')\n",
    "\n",
    "#round 2\n",
    "letter_1 = string.ascii_lowercase[N-2]\n",
    "b = '-'*(x-2)+letter+'-'+letter_1+'-'+letter+'-'*(x-2)\n",
    "print(b, sep='')\n",
    "\n",
    "#round 3\n",
    "letter_2 = string.ascii_lowercase[N-3]\n",
    "c = '-'*(x-4)+letter+'-'+letter_1+'-'+letter_2+'-'+letter_1+'-'+letter+'-'*(x-4)\n",
    "print(c,sep='')\n",
    "\n",
    "# Inversed\n",
    "print(b, sep='')\n",
    "print(a, sep='')"
   ]
  },
  {
   "cell_type": "code",
   "execution_count": 10,
   "id": "adjusted-medline",
   "metadata": {},
   "outputs": [
    {
     "name": "stdout",
     "output_type": "stream",
     "text": [
      "------d------\n",
      "----d-c-d----\n",
      "--d-c-b-c-d--\n",
      "d-c-b-a-b-c-d\n",
      "--d-c-b-c-d--\n",
      "----d-c-d----\n",
      "------d------\n"
     ]
    }
   ],
   "source": [
    "# this is just to understand the pattern of an alphabet rangoli.\n",
    "\n",
    "import string\n",
    "\n",
    "N = 4\n",
    "\n",
    "factor = N - 2\n",
    "x = N + factor\n",
    "\n",
    "#round 1\n",
    "letter = string.ascii_lowercase[N-1]\n",
    "a = '-'*x+letter+'-'*x\n",
    "print(a, sep='')\n",
    "\n",
    "#round 2\n",
    "letter_1 = string.ascii_lowercase[N-2]\n",
    "b = '-'*(x-2*1)+letter+'-'+letter_1+'-'+letter+'-'*(x-2*1)\n",
    "print(b, sep='')\n",
    "\n",
    "#round 3\n",
    "letter_2 = string.ascii_lowercase[N-3]\n",
    "c = '-'*(x-2*2)+letter+'-'+letter_1+'-'+letter_2+'-'+letter_1+'-'+letter+'-'*(x-2*2)\n",
    "print(c,sep='')\n",
    "\n",
    "#round 4\n",
    "letter_3 = string.ascii_lowercase[N-4]\n",
    "d = '-'*(x-2*3)+letter+'-'+letter_1+'-'+letter_2+'-'+letter_3+'-'+letter_2+'-'+letter_1+'-'+letter+'-'*(x-2*3)\n",
    "print(d,sep='')\n",
    "\n",
    "# Inversed\n",
    "print(c, sep='')\n",
    "print(b, sep='')\n",
    "print(a, sep='')"
   ]
  },
  {
   "cell_type": "markdown",
   "id": "worse-pasta",
   "metadata": {},
   "source": [
    "**Question 98**"
   ]
  },
  {
   "cell_type": "markdown",
   "id": "closing-worry",
   "metadata": {},
   "source": [
    "You are given a date. Your task is to find what the day is on that date.\n",
    "\n",
    "Input\n",
    "\n",
    "A single line of input containing the space separated month, day and year, respectively, in MM DD YYYY format.\n",
    "\n",
    "08 05 2015\n",
    "\n",
    "Output\n",
    "\n",
    "Output the correct day in capital letters.\n",
    "\n",
    "WEDNESDAY"
   ]
  },
  {
   "cell_type": "code",
   "execution_count": 11,
   "id": "exclusive-buffalo",
   "metadata": {},
   "outputs": [
    {
     "name": "stdout",
     "output_type": "stream",
     "text": [
      "Enter the date in MM DD YYYY format: 08 05 2015\n",
      "WEDNESDAY\n"
     ]
    }
   ],
   "source": [
    "import datetime \n",
    "\n",
    "date = input('Enter the date in MM DD YYYY format: ')\n",
    "day_name= ['MONDAY', 'TUESDAY', 'WEDNESDAY', 'THURSDAY', 'FRIDAY', 'SATURDAY','SUNDAY']\n",
    "day = datetime.datetime.strptime(date, '%m %d %Y').weekday()\n",
    "print(day_name[day]) "
   ]
  },
  {
   "cell_type": "code",
   "execution_count": 12,
   "id": "realistic-electronics",
   "metadata": {},
   "outputs": [
    {
     "name": "stdout",
     "output_type": "stream",
     "text": [
      "Enter the date in MM DD YYYY format: 08 05 2015\n",
      "WEDNESDAY\n"
     ]
    }
   ],
   "source": [
    "import calendar\n",
    "\n",
    "date = list(map(int, input('Enter the date in MM DD YYYY format: ').split(\" \")))\n",
    "day_name= ['MONDAY', 'TUESDAY', 'WEDNESDAY', 'THURSDAY', 'FRIDAY', 'SATURDAY','SUNDAY']\n",
    "day = calendar.weekday(int(date[2]), int(date[0]), int(date[1]))\n",
    "print(day_name[day]) "
   ]
  },
  {
   "cell_type": "code",
   "execution_count": 13,
   "id": "joined-north",
   "metadata": {},
   "outputs": [
    {
     "name": "stdout",
     "output_type": "stream",
     "text": [
      "08 05 2015\n",
      "WEDNESDAY\n"
     ]
    }
   ],
   "source": [
    "import calendar\n",
    "\n",
    "month, day, year = map(int, input().split())\n",
    "\n",
    "day_id = calendar.weekday(year, month, day)\n",
    "print(calendar.day_name[day_id].upper())"
   ]
  },
  {
   "cell_type": "markdown",
   "id": "controlled-stereo",
   "metadata": {},
   "source": [
    "**Question 99**"
   ]
  },
  {
   "cell_type": "markdown",
   "id": "acceptable-venue",
   "metadata": {},
   "source": [
    "Given 2 sets of integers, M and N, print their symmetric difference in ascending order. The term symmetric difference indicates those values that exist in either M or N but do not exist in both.\n",
    "\n",
    "Input\n",
    "\n",
    "4\n",
    "M = 2 4 5 9 \n",
    "\n",
    "4\n",
    "N = 2 4 11 12\n",
    "\n",
    "Output\n",
    "\n",
    "Output the symmetric difference integers in ascending order, one per line.\n",
    "\n",
    "5 9 11 12"
   ]
  },
  {
   "cell_type": "code",
   "execution_count": 14,
   "id": "peripheral-video",
   "metadata": {},
   "outputs": [
    {
     "name": "stdout",
     "output_type": "stream",
     "text": [
      "Input the length M of your set: 4\n",
      "Input a set of integers: 2 4 5 9\n",
      "Input the length N of your set: 4\n",
      "Input a set of integers: 2 4 11 12\n"
     ]
    },
    {
     "data": {
      "text/plain": [
       "{5, 9, 11, 12}"
      ]
     },
     "execution_count": 14,
     "metadata": {},
     "output_type": "execute_result"
    }
   ],
   "source": [
    "m = int(input('Input the length M of your set: '))\n",
    "set1 = set(map(int, input('Input a set of integers: ').split()))\n",
    "\n",
    "n = int(input('Input the length N of your set: '))\n",
    "set2 = set(map(int, input('Input a set of integers: ').split()))\n",
    "\n",
    "set1 ^ set2"
   ]
  },
  {
   "cell_type": "markdown",
   "id": "further-preference",
   "metadata": {},
   "source": [
    "### Day 24"
   ]
  },
  {
   "cell_type": "markdown",
   "id": "varying-refrigerator",
   "metadata": {},
   "source": [
    "**Question 100**"
   ]
  },
  {
   "cell_type": "markdown",
   "id": "improving-hardware",
   "metadata": {},
   "source": [
    "You are given words. Some words may repeat. For each word, output its number of occurrences. The output order should correspond with the input order of appearance of the word. See the sample input/output for clarification.\n",
    "\n",
    "If the following string is given as input to the program:\n",
    "\n",
    "4 \n",
    "\n",
    "bcdef abcdefg bcde bcdef\n",
    "\n",
    "Then, the output of the program should be:\n",
    "\n",
    "How many unique words: 3 \n",
    "\n",
    "2 1 1"
   ]
  },
  {
   "cell_type": "code",
   "execution_count": 15,
   "id": "herbal-cartoon",
   "metadata": {},
   "outputs": [
    {
     "name": "stdout",
     "output_type": "stream",
     "text": [
      "Input all your space-separated words: bcdef abcdefg bcde bcdef\n",
      "Number of unique words:  3\n",
      "bcdef 2\n",
      "abcdefg 1\n",
      "bcde 1\n"
     ]
    }
   ],
   "source": [
    "words = list(input('Input all your space-separated words: ').split())\n",
    "\n",
    "results = {}\n",
    "    \n",
    "for i in words:\n",
    "    if i not in results:\n",
    "        results[i] = 1\n",
    "    else:\n",
    "        results[i] += 1\n",
    "        \n",
    "print('Number of unique words: ', len(set(results)))\n",
    "\n",
    "for key, value in results.items():\n",
    "    print('{} {}'.format(key, value))"
   ]
  },
  {
   "cell_type": "markdown",
   "id": "danish-series",
   "metadata": {},
   "source": [
    "**Question 101**"
   ]
  },
  {
   "cell_type": "markdown",
   "id": "under-supplement",
   "metadata": {},
   "source": [
    "You are given a string.Your task is to count the frequency of letters of the string and print the letters in descending order of frequency.\n",
    "\n",
    "If the following string is given as input to the program:\n",
    "\n",
    "aabbbccde\n",
    "\n",
    "Then, the output of the program should be:\n",
    "\n",
    "b 3 \n",
    "\n",
    "a 2 \n",
    "\n",
    "c 2 \n",
    "\n",
    "d 1 \n",
    "\n",
    "e 1"
   ]
  },
  {
   "cell_type": "code",
   "execution_count": 16,
   "id": "blocked-fortune",
   "metadata": {},
   "outputs": [
    {
     "name": "stdout",
     "output_type": "stream",
     "text": [
      "Input a string: aabbbccde\n",
      "b 3\n",
      "e 1\n",
      "d 1\n",
      "a 2\n",
      "c 2\n"
     ]
    }
   ],
   "source": [
    "# this was the first experiment, the correct answer is the next one.\n",
    "\n",
    "string = input('Input a string: ')\n",
    "\n",
    "characters = set(string)\n",
    "result = {}\n",
    "\n",
    "for i in characters:\n",
    "    result[i] = string.count(i)\n",
    "    \n",
    "for key, value in result.items():\n",
    "    print(key, value)"
   ]
  },
  {
   "cell_type": "code",
   "execution_count": 17,
   "id": "piano-coordinate",
   "metadata": {},
   "outputs": [
    {
     "name": "stdout",
     "output_type": "stream",
     "text": [
      "Input a string: aabbbccde\n",
      "b 3\n",
      "a 2\n",
      "c 2\n",
      "d 1\n",
      "e 1\n"
     ]
    }
   ],
   "source": [
    "import operator\n",
    "\n",
    "string = input('Input a string: ')\n",
    "\n",
    "characters = set(string)\n",
    "result = []\n",
    "\n",
    "for i in characters:\n",
    "    result.append([i, string.count(i)])\n",
    "    \n",
    "result = sorted(result, key=lambda x: (-x[1], x[0]))\n",
    "for i in result:\n",
    "    print(i[0], i[1])"
   ]
  },
  {
   "cell_type": "markdown",
   "id": "greek-visiting",
   "metadata": {},
   "source": [
    "**Question 102**"
   ]
  },
  {
   "cell_type": "markdown",
   "id": "driving-environment",
   "metadata": {},
   "source": [
    "Write a Python program that accepts a string and calculate the number of digits and letters.\n",
    "\n",
    "Input\n",
    "\n",
    "Hello321Bye360\n",
    "\n",
    "Output\n",
    "\n",
    "Digit - 6\n",
    "\n",
    "Letter - 8"
   ]
  },
  {
   "cell_type": "code",
   "execution_count": 18,
   "id": "entire-section",
   "metadata": {},
   "outputs": [
    {
     "name": "stdout",
     "output_type": "stream",
     "text": [
      "Input a string: Hello321Bye360\n",
      "Number of digits...  6\n",
      "Number of letters..  8\n"
     ]
    }
   ],
   "source": [
    "string = input('Input a string: ')\n",
    "\n",
    "digits = 0\n",
    "letter = 0\n",
    "\n",
    "for i in string:\n",
    "    try:\n",
    "        int(i)\n",
    "        digits += 1\n",
    "    except:\n",
    "        if i.isalpha() == True:\n",
    "            letter += 1\n",
    "            \n",
    "print('Number of digits... ', digits)\n",
    "print('Number of letters.. ', letter)"
   ]
  },
  {
   "cell_type": "markdown",
   "id": "moved-tractor",
   "metadata": {},
   "source": [
    "**Question 103**"
   ]
  },
  {
   "cell_type": "markdown",
   "id": "close-cancer",
   "metadata": {},
   "source": [
    "Given a number N, find the sum from 1 to N using recursion.\n",
    "\n",
    "Input\n",
    "\n",
    "5\n",
    "\n",
    "Output\n",
    "\n",
    "15"
   ]
  },
  {
   "cell_type": "code",
   "execution_count": 19,
   "id": "pregnant-finland",
   "metadata": {},
   "outputs": [
    {
     "name": "stdout",
     "output_type": "stream",
     "text": [
      "Input your number N: 5\n",
      "15\n"
     ]
    }
   ],
   "source": [
    "number = int(input('Input your number N: '))\n",
    "\n",
    "result = 0\n",
    "for i in range(1, number+1):\n",
    "    result += i\n",
    "    \n",
    "print(result)"
   ]
  },
  {
   "cell_type": "code",
   "execution_count": 20,
   "id": "beginning-eight",
   "metadata": {},
   "outputs": [
    {
     "name": "stdout",
     "output_type": "stream",
     "text": [
      "Input your number N: 5\n"
     ]
    },
    {
     "data": {
      "text/plain": [
       "15"
      ]
     },
     "execution_count": 20,
     "metadata": {},
     "output_type": "execute_result"
    }
   ],
   "source": [
    "def function(n):\n",
    "    if n == 0:\n",
    "        return n\n",
    "    return function(n - 1) + n\n",
    "\n",
    "\n",
    "n = int(input('Input your number N: '))\n",
    "function(n)"
   ]
  }
 ],
 "metadata": {
  "kernelspec": {
   "display_name": "Python 3",
   "language": "python",
   "name": "python3"
  },
  "language_info": {
   "codemirror_mode": {
    "name": "ipython",
    "version": 3
   },
   "file_extension": ".py",
   "mimetype": "text/x-python",
   "name": "python",
   "nbconvert_exporter": "python",
   "pygments_lexer": "ipython3",
   "version": "3.8.3"
  },
  "toc": {
   "base_numbering": 1,
   "nav_menu": {},
   "number_sections": true,
   "sideBar": true,
   "skip_h1_title": false,
   "title_cell": "Table of Contents",
   "title_sidebar": "Contents",
   "toc_cell": false,
   "toc_position": {},
   "toc_section_display": true,
   "toc_window_display": false
  }
 },
 "nbformat": 4,
 "nbformat_minor": 5
}

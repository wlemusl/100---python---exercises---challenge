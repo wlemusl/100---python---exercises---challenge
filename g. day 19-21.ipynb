{
 "cells": [
  {
   "cell_type": "markdown",
   "id": "demanding-click",
   "metadata": {},
   "source": [
    "### Day 19"
   ]
  },
  {
   "cell_type": "markdown",
   "id": "capital-cleaning",
   "metadata": {},
   "source": [
    "**Question 75**"
   ]
  },
  {
   "cell_type": "markdown",
   "id": "mysterious-grade",
   "metadata": {},
   "source": [
    "Please write a program to randomly print a integer number between 7 and 15 inclusive."
   ]
  },
  {
   "cell_type": "code",
   "execution_count": 1,
   "id": "rising-keyboard",
   "metadata": {},
   "outputs": [
    {
     "data": {
      "text/plain": [
       "13"
      ]
     },
     "execution_count": 1,
     "metadata": {},
     "output_type": "execute_result"
    }
   ],
   "source": [
    "import random\n",
    "random.randrange(7,16)"
   ]
  },
  {
   "cell_type": "markdown",
   "id": "dress-pillow",
   "metadata": {},
   "source": [
    "**Question 76**"
   ]
  },
  {
   "cell_type": "markdown",
   "id": "celtic-parade",
   "metadata": {},
   "source": [
    "Please write a program to compress and decompress the string \"hello world!hello world!hello world!hello world!\"."
   ]
  },
  {
   "cell_type": "code",
   "execution_count": 2,
   "id": "significant-external",
   "metadata": {},
   "outputs": [
    {
     "name": "stdout",
     "output_type": "stream",
     "text": [
      "Size of original text in bytes:  81\n",
      "Size of compressed text in bytes:  56\n",
      "Size of decompressed text in bytes:  81 \n",
      "\n",
      "b'hello world!hello world!hello world!hello world!'\n",
      "b'x\\x9c\\xcbH\\xcd\\xc9\\xc9W(\\xcf/\\xcaIQ\\xcc \\x82\\r\\x00\\xbd[\\x11\\xf5'\n",
      "b'hello world!hello world!hello world!hello world!'\n"
     ]
    }
   ],
   "source": [
    "import zlib\n",
    "import sys\n",
    "\n",
    "# Here x is a text, not a string.\n",
    "x = b\"\"\"hello world!hello world!hello world!hello world!\"\"\"\n",
    "print(\"Size of original text in bytes: \", sys.getsizeof(x))\n",
    "\n",
    "y = zlib.compress(x)\n",
    "print(\"Size of compressed text in bytes: \", sys.getsizeof(y))\n",
    "\n",
    "z = zlib.decompress(y)\n",
    "print(\"Size of decompressed text in bytes: \", sys.getsizeof(z), '\\n')\n",
    "\n",
    "print(x)\n",
    "print(y)\n",
    "print(z)"
   ]
  },
  {
   "cell_type": "code",
   "execution_count": 3,
   "id": "offensive-retro",
   "metadata": {},
   "outputs": [
    {
     "name": "stdout",
     "output_type": "stream",
     "text": [
      "Size of original text in bytes:  97\n",
      "Size of compressed text in bytes:  56\n"
     ]
    }
   ],
   "source": [
    "# Here x is a string, not a text.\n",
    "x = \"hello world!hello world!hello world!hello world!\"\n",
    "print(\"Size of original text in bytes: \", sys.getsizeof(x))\n",
    "\n",
    "y = zlib.compress(x.encode())\n",
    "print(\"Size of compressed text in bytes: \", sys.getsizeof(y))"
   ]
  },
  {
   "cell_type": "markdown",
   "id": "joint-depth",
   "metadata": {},
   "source": [
    "**Question 77**"
   ]
  },
  {
   "cell_type": "markdown",
   "id": "systematic-dutch",
   "metadata": {},
   "source": [
    "Please write a program to print the running time of execution of \"1+1\" for 100 times."
   ]
  },
  {
   "cell_type": "code",
   "execution_count": 4,
   "id": "chinese-chart",
   "metadata": {},
   "outputs": [
    {
     "name": "stdout",
     "output_type": "stream",
     "text": [
      "2.0040000000065562e-06\n"
     ]
    }
   ],
   "source": [
    "import timeit\n",
    "\n",
    "code_to_test = \"\"\"\n",
    "for i in range(100):\n",
    "    1+1\n",
    "\"\"\"\n",
    "\n",
    "elapsed_time = timeit.timeit(code_to_test, number=100)/100\n",
    "print(elapsed_time)"
   ]
  },
  {
   "cell_type": "markdown",
   "id": "changing-machine",
   "metadata": {},
   "source": [
    "**Question 78**"
   ]
  },
  {
   "cell_type": "markdown",
   "id": "circular-frederick",
   "metadata": {},
   "source": [
    "Please write a program to shuffle and print the list [3,6,7,8]."
   ]
  },
  {
   "cell_type": "code",
   "execution_count": 5,
   "id": "solar-cathedral",
   "metadata": {},
   "outputs": [
    {
     "name": "stdout",
     "output_type": "stream",
     "text": [
      "Original:  [3, 6, 7, 8]\n",
      "Shuffled:  [8, 6, 3, 7]\n"
     ]
    }
   ],
   "source": [
    "import random\n",
    "list_values = [3,6,7,8]\n",
    "print(\"Original: \", list_values)\n",
    "random.shuffle(list_values)\n",
    "\n",
    "print(\"Shuffled: \", list_values)"
   ]
  },
  {
   "cell_type": "markdown",
   "id": "verified-drill",
   "metadata": {},
   "source": [
    "**Question 79**"
   ]
  },
  {
   "cell_type": "markdown",
   "id": "egyptian-terminology",
   "metadata": {},
   "source": [
    "Please write a program to generate all sentences where subject is in [\"I\", \"You\"] and verb is in [\"Play\", \"Love\"] and the object is in [\"Hockey\",\"Football\"]."
   ]
  },
  {
   "cell_type": "code",
   "execution_count": 6,
   "id": "considered-piece",
   "metadata": {},
   "outputs": [
    {
     "name": "stdout",
     "output_type": "stream",
     "text": [
      "I Play Hockey.\n",
      "I Play Football.\n",
      "I Love Hockey.\n",
      "I Love Football.\n",
      "You Play Hockey.\n",
      "You Play Football.\n",
      "You Love Hockey.\n",
      "You Love Football.\n"
     ]
    }
   ],
   "source": [
    "subjects = [\"I\", \"You\"]\n",
    "verbs = [\"Play\", \"Love\"]\n",
    "objects = [\"Hockey\",\"Football\"]\n",
    "\n",
    "for sub in subjects:\n",
    "    for verb in verbs:\n",
    "        for obj in objects:\n",
    "            print('{} {} {}.'.format(sub, verb, obj))"
   ]
  },
  {
   "cell_type": "markdown",
   "id": "atmospheric-deputy",
   "metadata": {},
   "source": [
    "### Day 20"
   ]
  },
  {
   "cell_type": "markdown",
   "id": "metric-learning",
   "metadata": {},
   "source": [
    "**Question 80**"
   ]
  },
  {
   "cell_type": "markdown",
   "id": "completed-blanket",
   "metadata": {},
   "source": [
    "Please write a program to print the list after removing even numbers in [5,6,77,45,22,12,24]."
   ]
  },
  {
   "cell_type": "code",
   "execution_count": 7,
   "id": "contained-alias",
   "metadata": {},
   "outputs": [],
   "source": [
    "old_list = [5,6,77,45,22,12,24]"
   ]
  },
  {
   "cell_type": "code",
   "execution_count": 8,
   "id": "certain-question",
   "metadata": {},
   "outputs": [
    {
     "data": {
      "text/plain": [
       "[5, 77, 45]"
      ]
     },
     "execution_count": 8,
     "metadata": {},
     "output_type": "execute_result"
    }
   ],
   "source": [
    "new_list = list(filter(lambda x: x%2 != 0, old_list))\n",
    "new_list"
   ]
  },
  {
   "cell_type": "markdown",
   "id": "latin-interference",
   "metadata": {},
   "source": [
    "**Question 81**"
   ]
  },
  {
   "cell_type": "markdown",
   "id": "agreed-finding",
   "metadata": {},
   "source": [
    "By using list comprehension, please write a program to print the list after removing numbers which are divisible by 5 and 7 in [12,24,35,70,88,120,155]."
   ]
  },
  {
   "cell_type": "code",
   "execution_count": 9,
   "id": "active-roots",
   "metadata": {},
   "outputs": [
    {
     "data": {
      "text/plain": [
       "[12, 24, 88, 120, 155]"
      ]
     },
     "execution_count": 9,
     "metadata": {},
     "output_type": "execute_result"
    }
   ],
   "source": [
    "old_lst = [12,24,35,70,88,120,155]\n",
    "new_lst = [i for i in old_lst if i%35!=0]\n",
    "new_lst"
   ]
  },
  {
   "cell_type": "markdown",
   "id": "fabulous-mixture",
   "metadata": {},
   "source": [
    "**Question 82**"
   ]
  },
  {
   "cell_type": "markdown",
   "id": "dependent-antibody",
   "metadata": {},
   "source": [
    "By using list comprehension, please write a program to print the list after removing the 0th, 2nd, 4th, 6th numbers in [12,24,35,70,88,120,155]."
   ]
  },
  {
   "cell_type": "code",
   "execution_count": 10,
   "id": "removable-employment",
   "metadata": {},
   "outputs": [
    {
     "data": {
      "text/plain": [
       "[24, 70, 120]"
      ]
     },
     "execution_count": 10,
     "metadata": {},
     "output_type": "execute_result"
    }
   ],
   "source": [
    "old_lst = [12,24,35,70,88,120,155]\n",
    "new_lst = [old_lst[i] for i in range(len(old_lst)) if i%2!=0]\n",
    "new_lst"
   ]
  },
  {
   "cell_type": "markdown",
   "id": "statutory-rebate",
   "metadata": {},
   "source": [
    "**Question 83**"
   ]
  },
  {
   "cell_type": "markdown",
   "id": "exciting-veteran",
   "metadata": {},
   "source": [
    "By using list comprehension, please write a program to print the list after removing the 2nd - 4th numbers in [12,24,35,70,88,120,155]."
   ]
  },
  {
   "cell_type": "code",
   "execution_count": 11,
   "id": "unlimited-leeds",
   "metadata": {},
   "outputs": [
    {
     "data": {
      "text/plain": [
       "[12, 24, 120, 155]"
      ]
     },
     "execution_count": 11,
     "metadata": {},
     "output_type": "execute_result"
    }
   ],
   "source": [
    "old_lst = [12,24,35,70,88,120,155]\n",
    "new_lst = [old_lst[i] for i in range(0,7) if i<2 or i>4 ]\n",
    "new_lst"
   ]
  },
  {
   "cell_type": "markdown",
   "id": "center-session",
   "metadata": {},
   "source": [
    "**Question 84**"
   ]
  },
  {
   "cell_type": "markdown",
   "id": "meaningful-million",
   "metadata": {},
   "source": [
    "By using list comprehension, please write a program that generates a 3x5x8 3D array whose each element is 0."
   ]
  },
  {
   "cell_type": "code",
   "execution_count": 12,
   "id": "jewish-prerequisite",
   "metadata": {},
   "outputs": [
    {
     "data": {
      "text/plain": [
       "[[[0, 0, 0], [0, 0, 0], [0, 0, 0], [0, 0, 0], [0, 0, 0]],\n",
       " [[0, 0, 0], [0, 0, 0], [0, 0, 0], [0, 0, 0], [0, 0, 0]],\n",
       " [[0, 0, 0], [0, 0, 0], [0, 0, 0], [0, 0, 0], [0, 0, 0]],\n",
       " [[0, 0, 0], [0, 0, 0], [0, 0, 0], [0, 0, 0], [0, 0, 0]],\n",
       " [[0, 0, 0], [0, 0, 0], [0, 0, 0], [0, 0, 0], [0, 0, 0]],\n",
       " [[0, 0, 0], [0, 0, 0], [0, 0, 0], [0, 0, 0], [0, 0, 0]],\n",
       " [[0, 0, 0], [0, 0, 0], [0, 0, 0], [0, 0, 0], [0, 0, 0]],\n",
       " [[0, 0, 0], [0, 0, 0], [0, 0, 0], [0, 0, 0], [0, 0, 0]]]"
      ]
     },
     "execution_count": 12,
     "metadata": {},
     "output_type": "execute_result"
    }
   ],
   "source": [
    "lst = [[[0 for col in range(3)] for col in range(5)] for row in range(8)]\n",
    "lst"
   ]
  },
  {
   "cell_type": "markdown",
   "id": "naked-europe",
   "metadata": {},
   "source": [
    "### Day 21"
   ]
  },
  {
   "cell_type": "markdown",
   "id": "innovative-apartment",
   "metadata": {},
   "source": [
    "**Question 85**"
   ]
  },
  {
   "cell_type": "markdown",
   "id": "fundamental-acrobat",
   "metadata": {},
   "source": [
    "By using list comprehension, please write a program to print the list after removing the 0th,4th,5th numbers in [12,24,35,70,88,120,155]."
   ]
  },
  {
   "cell_type": "code",
   "execution_count": 13,
   "id": "satellite-going",
   "metadata": {},
   "outputs": [
    {
     "data": {
      "text/plain": [
       "[24, 35, 70, 155]"
      ]
     },
     "execution_count": 13,
     "metadata": {},
     "output_type": "execute_result"
    }
   ],
   "source": [
    "numbers = [12,24,35,70,88,120,155]\n",
    "numbers.pop(0)\n",
    "numbers.pop(3)\n",
    "numbers.pop(3)\n",
    "numbers"
   ]
  },
  {
   "cell_type": "code",
   "execution_count": 14,
   "id": "automated-retreat",
   "metadata": {},
   "outputs": [
    {
     "data": {
      "text/plain": [
       "[24, 35, 70, 155]"
      ]
     },
     "execution_count": 14,
     "metadata": {},
     "output_type": "execute_result"
    }
   ],
   "source": [
    "numbers = [12,24,35,70,88,120,155]\n",
    "numbers = [numbers[i] for i in range(len(numbers)) if i not in [0, 4, 5]]\n",
    "numbers"
   ]
  },
  {
   "cell_type": "markdown",
   "id": "cardiac-effect",
   "metadata": {},
   "source": [
    "**Question 86**"
   ]
  },
  {
   "cell_type": "markdown",
   "id": "aboriginal-pointer",
   "metadata": {},
   "source": [
    "By using list comprehension, please write a program to print the list after removing the value 24 in [12,24,35,24,88,120,155]."
   ]
  },
  {
   "cell_type": "code",
   "execution_count": 15,
   "id": "dangerous-series",
   "metadata": {},
   "outputs": [
    {
     "data": {
      "text/plain": [
       "[12, 35, 70, 88, 120, 155]"
      ]
     },
     "execution_count": 15,
     "metadata": {},
     "output_type": "execute_result"
    }
   ],
   "source": [
    "numbers = [12,24,35,70,88,120,155]\n",
    "numbers.remove(24)\n",
    "numbers"
   ]
  },
  {
   "cell_type": "markdown",
   "id": "french-representative",
   "metadata": {},
   "source": [
    "**Question 87**"
   ]
  },
  {
   "cell_type": "markdown",
   "id": "separated-attendance",
   "metadata": {},
   "source": [
    "With two given lists [1,3,6,78,35,55] and [12,24,35,24,88,120,155], write a program to make a list whose elements are intersection of the above given lists."
   ]
  },
  {
   "cell_type": "code",
   "execution_count": 16,
   "id": "dense-certification",
   "metadata": {},
   "outputs": [
    {
     "data": {
      "text/plain": [
       "[35]"
      ]
     },
     "execution_count": 16,
     "metadata": {},
     "output_type": "execute_result"
    }
   ],
   "source": [
    "x = [1,3,6,78,35,55]\n",
    "y = [12,24,35,24,88,120,155]\n",
    "\n",
    "z = [i for i in x if i in y]\n",
    "z"
   ]
  },
  {
   "cell_type": "code",
   "execution_count": 17,
   "id": "vanilla-distributor",
   "metadata": {},
   "outputs": [
    {
     "data": {
      "text/plain": [
       "[35]"
      ]
     },
     "execution_count": 17,
     "metadata": {},
     "output_type": "execute_result"
    }
   ],
   "source": [
    "x = [1,3,6,78,35,55]\n",
    "y = [12,24,35,24,88,120,155]\n",
    "\n",
    "z = list(set(x) & set(y))\n",
    "z"
   ]
  },
  {
   "cell_type": "markdown",
   "id": "vocational-fraction",
   "metadata": {},
   "source": [
    "**Question 88**"
   ]
  },
  {
   "cell_type": "markdown",
   "id": "hawaiian-property",
   "metadata": {},
   "source": [
    "With a given list [12,24,35,24,88,120,155,88,120,155], write a program to print this list after removing all duplicate values with original order reserved."
   ]
  },
  {
   "cell_type": "code",
   "execution_count": 18,
   "id": "german-greene",
   "metadata": {},
   "outputs": [
    {
     "data": {
      "text/plain": [
       "[12, 24, 35, 88, 120, 155]"
      ]
     },
     "execution_count": 18,
     "metadata": {},
     "output_type": "execute_result"
    }
   ],
   "source": [
    "x = [12,24,35,24,88,120,155,88,120,155]\n",
    "y = list(dict.fromkeys(x))\n",
    "y"
   ]
  },
  {
   "cell_type": "code",
   "execution_count": 19,
   "id": "eastern-fitness",
   "metadata": {},
   "outputs": [
    {
     "data": {
      "text/plain": [
       "{12, 24, 35, 88, 120, 155}"
      ]
     },
     "execution_count": 19,
     "metadata": {},
     "output_type": "execute_result"
    }
   ],
   "source": [
    "x = [12,24,35,24,88,120,155,88,120,155]\n",
    "y = set(x)\n",
    "y"
   ]
  },
  {
   "cell_type": "markdown",
   "id": "annoying-cambridge",
   "metadata": {},
   "source": [
    "**Question 89**"
   ]
  },
  {
   "cell_type": "markdown",
   "id": "handled-resistance",
   "metadata": {},
   "source": [
    "Define a class Person and its two child classes: Male and Female. All classes have a method \"getGender\" which can print \"Male\" for Male class and \"Female\" for Female class."
   ]
  },
  {
   "cell_type": "code",
   "execution_count": 20,
   "id": "seasonal-diana",
   "metadata": {},
   "outputs": [],
   "source": [
    "class Person(object):\n",
    "    def getGender(self):\n",
    "        return \"Unknown\"\n",
    "\n",
    "class Male(Person):\n",
    "    def getGender(self):\n",
    "        return \"Male\"\n",
    "\n",
    "class Female(Person):\n",
    "    def getGender(self):\n",
    "        return \"Female\""
   ]
  },
  {
   "cell_type": "code",
   "execution_count": 21,
   "id": "sustained-bunch",
   "metadata": {},
   "outputs": [
    {
     "name": "stdout",
     "output_type": "stream",
     "text": [
      "Unknown\n",
      "Male\n",
      "Female\n"
     ]
    }
   ],
   "source": [
    "aPerson = Person()\n",
    "aMale = Male()\n",
    "aFemale = Female()\n",
    "print(aPerson.getGender())\n",
    "print(aMale.getGender())\n",
    "print(aFemale.getGender())"
   ]
  }
 ],
 "metadata": {
  "kernelspec": {
   "display_name": "Python 3",
   "language": "python",
   "name": "python3"
  },
  "language_info": {
   "codemirror_mode": {
    "name": "ipython",
    "version": 3
   },
   "file_extension": ".py",
   "mimetype": "text/x-python",
   "name": "python",
   "nbconvert_exporter": "python",
   "pygments_lexer": "ipython3",
   "version": "3.8.3"
  },
  "toc": {
   "base_numbering": 1,
   "nav_menu": {},
   "number_sections": true,
   "sideBar": true,
   "skip_h1_title": false,
   "title_cell": "Table of Contents",
   "title_sidebar": "Contents",
   "toc_cell": false,
   "toc_position": {},
   "toc_section_display": true,
   "toc_window_display": false
  }
 },
 "nbformat": 4,
 "nbformat_minor": 5
}

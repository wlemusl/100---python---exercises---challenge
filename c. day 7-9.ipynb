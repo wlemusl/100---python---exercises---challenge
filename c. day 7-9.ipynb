{
 "cells": [
  {
   "cell_type": "markdown",
   "id": "serial-glory",
   "metadata": {},
   "source": [
    "### Day 7"
   ]
  },
  {
   "cell_type": "markdown",
   "id": "damaged-practitioner",
   "metadata": {},
   "source": [
    "**Question 20**"
   ]
  },
  {
   "cell_type": "markdown",
   "id": "polyphonic-lightweight",
   "metadata": {},
   "source": [
    "Define a class with a generator which can iterate the numbers, which are divisible by 7, between a given range 0 and n."
   ]
  },
  {
   "cell_type": "code",
   "execution_count": 1,
   "id": "celtic-england",
   "metadata": {},
   "outputs": [],
   "source": [
    "class Divisible():\n",
    "    \"\"\"A class with a generator which can iterate the numbers, \n",
    "    which are divisible by 7, between a given range 0 and n\"\"\"\n",
    "        \n",
    "    def by_seven(self, n):\n",
    "        for number in range(n+1):\n",
    "            if number % 7 == 0:\n",
    "                yield number # the yield statement returns a generator object."
   ]
  },
  {
   "cell_type": "code",
   "execution_count": 2,
   "id": "abroad-harmony",
   "metadata": {},
   "outputs": [
    {
     "name": "stdout",
     "output_type": "stream",
     "text": [
      "0\n",
      "7\n",
      "14\n",
      "21\n",
      "28\n",
      "35\n",
      "42\n",
      "49\n",
      "56\n",
      "63\n",
      "70\n",
      "77\n",
      "84\n",
      "91\n",
      "98\n",
      "105\n",
      "112\n",
      "119\n",
      "126\n",
      "133\n",
      "140\n",
      "147\n",
      "154\n",
      "161\n",
      "168\n",
      "175\n",
      "182\n",
      "189\n",
      "196\n",
      "203\n",
      "210\n",
      "217\n",
      "224\n",
      "231\n",
      "238\n",
      "245\n",
      "252\n",
      "259\n",
      "266\n",
      "273\n",
      "280\n",
      "287\n",
      "294\n",
      "301\n",
      "308\n",
      "315\n",
      "322\n",
      "329\n",
      "336\n",
      "343\n",
      "350\n",
      "357\n",
      "364\n",
      "371\n",
      "378\n",
      "385\n",
      "392\n",
      "399\n",
      "406\n",
      "413\n",
      "420\n",
      "427\n",
      "434\n",
      "441\n",
      "448\n",
      "455\n",
      "462\n",
      "469\n",
      "476\n",
      "483\n",
      "490\n",
      "497\n",
      "504\n",
      "511\n",
      "518\n",
      "525\n",
      "532\n",
      "539\n",
      "546\n",
      "553\n",
      "560\n",
      "567\n",
      "574\n",
      "581\n",
      "588\n",
      "595\n",
      "602\n",
      "609\n",
      "616\n",
      "623\n",
      "630\n",
      "637\n",
      "644\n",
      "651\n",
      "658\n",
      "665\n",
      "672\n",
      "679\n",
      "686\n",
      "693\n",
      "700\n",
      "707\n",
      "714\n",
      "721\n",
      "728\n",
      "735\n",
      "742\n",
      "749\n",
      "756\n",
      "763\n",
      "770\n",
      "777\n",
      "784\n",
      "791\n",
      "798\n",
      "805\n",
      "812\n",
      "819\n",
      "826\n",
      "833\n",
      "840\n",
      "847\n",
      "854\n",
      "861\n",
      "868\n",
      "875\n",
      "882\n",
      "889\n",
      "896\n",
      "903\n",
      "910\n",
      "917\n",
      "924\n",
      "931\n",
      "938\n",
      "945\n",
      "952\n",
      "959\n",
      "966\n",
      "973\n",
      "980\n",
      "987\n",
      "994\n"
     ]
    }
   ],
   "source": [
    "divisible = Divisible()\n",
    "generator = divisible.by_seven(1000)\n",
    "for number in generator:\n",
    "    print(number)"
   ]
  },
  {
   "cell_type": "markdown",
   "id": "prepared-motorcycle",
   "metadata": {},
   "source": [
    "**Question 21**"
   ]
  },
  {
   "cell_type": "markdown",
   "id": "vietnamese-plaintiff",
   "metadata": {},
   "source": [
    "A robot moves in a plane starting from the original point (0,0). The robot can move toward UP, DOWN, LEFT and RIGHT with a given steps. The trace of robot movement is shown as the following:"
   ]
  },
  {
   "cell_type": "markdown",
   "id": "fifteen-excess",
   "metadata": {},
   "source": [
    "UP 5\n",
    "DOWN 3\n",
    "LEFT 3\n",
    "RIGHT 2"
   ]
  },
  {
   "cell_type": "markdown",
   "id": "persistent-relationship",
   "metadata": {},
   "source": [
    "The numbers after the direction are steps. Please write a program to compute the distance from current position after a sequence of movement and original point. If the distance is a float, then just print the nearest integer. If the last four tuples are given as input, the output of the program should be:"
   ]
  },
  {
   "cell_type": "markdown",
   "id": "olympic-fashion",
   "metadata": {},
   "source": [
    "2"
   ]
  },
  {
   "cell_type": "code",
   "execution_count": 4,
   "id": "consistent-retro",
   "metadata": {},
   "outputs": [
    {
     "name": "stdout",
     "output_type": "stream",
     "text": [
      "Input a command: UP 5\n",
      "Press c to continue or q to quit: c\n",
      "Input a command: DOWN 3\n",
      "Press c to continue or q to quit: c\n",
      "Input a command: LEFT 3\n",
      "Press c to continue or q to quit: c\n",
      "Input a command: RIGHT 2\n",
      "Press c to continue or q to quit: q\n",
      "The euclidean distance is:  2\n"
     ]
    }
   ],
   "source": [
    "from math import sqrt\n",
    "\n",
    "commands = []\n",
    "steps = []\n",
    "x = 0\n",
    "y = 0\n",
    "\n",
    "while True:\n",
    "    a, b = input('Input a command: ').split()\n",
    "    commands.append(a)\n",
    "    steps.append(int(b))\n",
    "    if a == 'UP' or a == 'up':\n",
    "        y += int(b)\n",
    "    if a == 'DOWN' or a == 'down':\n",
    "        y -= int(b)\n",
    "    if a == 'LEFT' or a == 'left':\n",
    "        x -= int(b)\n",
    "    if a == 'RIGHT' or a == 'right':\n",
    "        x += int(b)\n",
    "        \n",
    "    stay_quit = input(\"Press c to continue or q to quit: \")\n",
    "    if stay_quit == \"q\" or stay_quit == 'quit':\n",
    "        break\n",
    "\n",
    "euclidean = round(sqrt((x-0)**2 + (y-0)**2)) \n",
    "print(\"The euclidean distance is: \", euclidean) "
   ]
  },
  {
   "cell_type": "markdown",
   "id": "everyday-ethiopia",
   "metadata": {},
   "source": [
    "### Day 8"
   ]
  },
  {
   "cell_type": "markdown",
   "id": "determined-bahrain",
   "metadata": {},
   "source": [
    "**Question 22**"
   ]
  },
  {
   "cell_type": "markdown",
   "id": "demographic-voltage",
   "metadata": {},
   "source": [
    "Write a program to compute the frequency of the words from the input. The output should output after sorting the key alphanumerically. Suppose the following input is supplied to the program:"
   ]
  },
  {
   "cell_type": "markdown",
   "id": "valuable-income",
   "metadata": {},
   "source": [
    "New to Python or choosing between Python 2 and Python 3? Read Python 2 or Python 3."
   ]
  },
  {
   "cell_type": "markdown",
   "id": "aboriginal-congress",
   "metadata": {},
   "source": [
    "Then, the output should be:"
   ]
  },
  {
   "cell_type": "markdown",
   "id": "unique-american",
   "metadata": {},
   "source": [
    "2:2\n",
    "\n",
    "3.:1\n",
    "\n",
    "3?:1\n",
    "\n",
    "New:1\n",
    "\n",
    "Python:5\n",
    "\n",
    "Read:1\n",
    "\n",
    "and:1\n",
    "\n",
    "between:1\n",
    "\n",
    "choosing:1\n",
    "\n",
    "or:2\n",
    "\n",
    "to:1"
   ]
  },
  {
   "cell_type": "code",
   "execution_count": 5,
   "id": "proved-village",
   "metadata": {},
   "outputs": [
    {
     "name": "stdout",
     "output_type": "stream",
     "text": [
      "Input your sentence: New to Python or choosing between Python 2 and Python 3? Read Python 2 or Python 3.\n",
      "2: 2\n",
      "3.: 1\n",
      "3?: 1\n",
      "New: 1\n",
      "Python: 5\n",
      "Read: 1\n",
      "and: 1\n",
      "between: 1\n",
      "choosing: 1\n",
      "or: 2\n",
      "to: 1\n"
     ]
    }
   ],
   "source": [
    "inputs = input(\"Input your sentence: \").split()\n",
    "\n",
    "inputs.sort()\n",
    "frequency = {}\n",
    "\n",
    "for item in inputs:\n",
    "    if item in frequency:\n",
    "        frequency[item] += 1\n",
    "    else:\n",
    "        frequency[item] = 1\n",
    "\n",
    "for key, value in frequency.items():\n",
    "    print('{}: {}'.format(key, value))"
   ]
  },
  {
   "cell_type": "markdown",
   "id": "mexican-plain",
   "metadata": {},
   "source": [
    "**Question 23**"
   ]
  },
  {
   "cell_type": "markdown",
   "id": "interesting-heating",
   "metadata": {},
   "source": [
    "Write a method which can calculate square value of number."
   ]
  },
  {
   "cell_type": "markdown",
   "id": "continuous-distinction",
   "metadata": {},
   "source": [
    "Using the operator which can be written as np where means n^p"
   ]
  },
  {
   "cell_type": "code",
   "execution_count": 6,
   "id": "fiscal-disney",
   "metadata": {},
   "outputs": [
    {
     "name": "stdout",
     "output_type": "stream",
     "text": [
      "Input a number you want to square: 6\n",
      "36\n"
     ]
    }
   ],
   "source": [
    "n = int(input(\"Input a number you want to square: \"))\n",
    "print(n ** 2)"
   ]
  },
  {
   "cell_type": "markdown",
   "id": "anticipated-petersburg",
   "metadata": {},
   "source": [
    "**Question 24**"
   ]
  },
  {
   "cell_type": "markdown",
   "id": "directed-revelation",
   "metadata": {},
   "source": [
    "Python has many built-in functions, and if you do not know how to use it, you can read document online or find some books. But Python has a built-in document function for every built-in functions."
   ]
  },
  {
   "cell_type": "markdown",
   "id": "judicial-forestry",
   "metadata": {},
   "source": [
    "Please write a program to print some Python built-in functions documents, such as abs(), int(), raw_input(). And add document for your own function."
   ]
  },
  {
   "cell_type": "code",
   "execution_count": 7,
   "id": "facial-samba",
   "metadata": {},
   "outputs": [],
   "source": [
    "def will():\n",
    "    \"\"\"Return \"Hello world\". It is a super simple function.\"\"\"\n",
    "    return \"Hello world\""
   ]
  },
  {
   "cell_type": "code",
   "execution_count": 8,
   "id": "neural-original",
   "metadata": {},
   "outputs": [
    {
     "name": "stdout",
     "output_type": "stream",
     "text": [
      "abs \n",
      " Return the absolute value of the argument. \n",
      "\n",
      "int \n",
      " int([x]) -> integer\n",
      "int(x, base=10) -> integer\n",
      "\n",
      "Convert a number or string to an integer, or return 0 if no arguments\n",
      "are given.  If x is a number, return x.__int__().  For floating point\n",
      "numbers, this truncates towards zero.\n",
      "\n",
      "If x is not a number or if base is given, then x must be a string,\n",
      "bytes, or bytearray instance representing an integer literal in the\n",
      "given base.  The literal can be preceded by '+' or '-' and be surrounded\n",
      "by whitespace.  The base defaults to 10.  Valid bases are 0 and 2-36.\n",
      "Base 0 means to interpret the base from the string as an integer literal.\n",
      ">>> int('0b100', base=0)\n",
      "4 \n",
      "\n",
      "input \n",
      " Forward raw_input to frontends\n",
      "\n",
      "        Raises\n",
      "        ------\n",
      "        StdinNotImplentedError if active frontend doesn't support stdin.\n",
      "         \n",
      "\n",
      "will \n",
      " Return \"Hello world\". It is a super simple function. \n",
      "\n"
     ]
    }
   ],
   "source": [
    "print(\"abs\", '\\n', abs.__doc__, '\\n')\n",
    "print(\"int\", '\\n', int.__doc__, '\\n')\n",
    "print('input', '\\n', input.__doc__, '\\n')\n",
    "print('will', '\\n', will.__doc__, '\\n')"
   ]
  },
  {
   "cell_type": "markdown",
   "id": "worst-departure",
   "metadata": {},
   "source": [
    "**Question 25**"
   ]
  },
  {
   "cell_type": "markdown",
   "id": "large-picking",
   "metadata": {},
   "source": [
    "Define a class, which have a class parameter and have a same instance parameter."
   ]
  },
  {
   "cell_type": "code",
   "execution_count": 9,
   "id": "sixth-outside",
   "metadata": {},
   "outputs": [
    {
     "name": "stdout",
     "output_type": "stream",
     "text": [
      "The GPA of Julio is 4.2 out of 5.0.\n"
     ]
    }
   ],
   "source": [
    "class Student():\n",
    "    \n",
    "    def __init__(self, gpa, name='Julio'):\n",
    "        self.gpa = gpa\n",
    "        self.name = name\n",
    "    \n",
    "student = Student(4.2)\n",
    "print('The GPA of {} is {} out of 5.0.'.format(student.name, student.gpa))"
   ]
  },
  {
   "cell_type": "markdown",
   "id": "comparative-channel",
   "metadata": {},
   "source": [
    "### Day 9"
   ]
  },
  {
   "cell_type": "markdown",
   "id": "sitting-extra",
   "metadata": {},
   "source": [
    "**Question 26**"
   ]
  },
  {
   "cell_type": "markdown",
   "id": "above-exemption",
   "metadata": {},
   "source": [
    "Define a function which can compute the sum of two numbers."
   ]
  },
  {
   "cell_type": "code",
   "execution_count": 10,
   "id": "sensitive-variable",
   "metadata": {},
   "outputs": [
    {
     "data": {
      "text/plain": [
       "14"
      ]
     },
     "execution_count": 10,
     "metadata": {},
     "output_type": "execute_result"
    }
   ],
   "source": [
    "def sum(a, b):\n",
    "    return a+b\n",
    "\n",
    "sum(4,10)"
   ]
  },
  {
   "cell_type": "code",
   "execution_count": 11,
   "id": "lasting-cuisine",
   "metadata": {},
   "outputs": [
    {
     "name": "stdout",
     "output_type": "stream",
     "text": [
      "14\n"
     ]
    }
   ],
   "source": [
    "sum = lambda a, b: a + b \n",
    "print(sum(4, 10))"
   ]
  },
  {
   "cell_type": "markdown",
   "id": "indonesian-prime",
   "metadata": {},
   "source": [
    "**Question 27**"
   ]
  },
  {
   "cell_type": "markdown",
   "id": "unique-yukon",
   "metadata": {},
   "source": [
    "Define a function that can convert a integer into a string and print it in console."
   ]
  },
  {
   "cell_type": "code",
   "execution_count": 12,
   "id": "prostate-morrison",
   "metadata": {},
   "outputs": [],
   "source": [
    "def convert(x):\n",
    "    return str(x)"
   ]
  },
  {
   "cell_type": "code",
   "execution_count": 13,
   "id": "available-testing",
   "metadata": {},
   "outputs": [
    {
     "data": {
      "text/plain": [
       "'5'"
      ]
     },
     "execution_count": 13,
     "metadata": {},
     "output_type": "execute_result"
    }
   ],
   "source": [
    "convert(5)"
   ]
  },
  {
   "cell_type": "code",
   "execution_count": 14,
   "id": "intensive-indonesia",
   "metadata": {},
   "outputs": [
    {
     "data": {
      "text/plain": [
       "'5'"
      ]
     },
     "execution_count": 14,
     "metadata": {},
     "output_type": "execute_result"
    }
   ],
   "source": [
    "convert = lambda x: str(x)\n",
    "result = convert(5)\n",
    "result"
   ]
  },
  {
   "cell_type": "markdown",
   "id": "incorporated-pennsylvania",
   "metadata": {},
   "source": [
    "**Question 28**"
   ]
  },
  {
   "cell_type": "markdown",
   "id": "relevant-thermal",
   "metadata": {},
   "source": [
    "Define a function that can receive two integer numbers in string form and compute their sum and then print it in console."
   ]
  },
  {
   "cell_type": "code",
   "execution_count": 15,
   "id": "turkish-illustration",
   "metadata": {},
   "outputs": [],
   "source": [
    "def addition(x, y):\n",
    "    return int(x) + int(y)"
   ]
  },
  {
   "cell_type": "code",
   "execution_count": 16,
   "id": "olive-provision",
   "metadata": {},
   "outputs": [
    {
     "data": {
      "text/plain": [
       "11"
      ]
     },
     "execution_count": 16,
     "metadata": {},
     "output_type": "execute_result"
    }
   ],
   "source": [
    "addition(5, 6)"
   ]
  },
  {
   "cell_type": "code",
   "execution_count": 17,
   "id": "stunning-judgment",
   "metadata": {},
   "outputs": [
    {
     "data": {
      "text/plain": [
       "11"
      ]
     },
     "execution_count": 17,
     "metadata": {},
     "output_type": "execute_result"
    }
   ],
   "source": [
    "addition = lambda x, y: int(x) + int(y)\n",
    "result = addition(5, 6)\n",
    "result"
   ]
  },
  {
   "cell_type": "markdown",
   "id": "smoking-organic",
   "metadata": {},
   "source": [
    "**Question 29**"
   ]
  },
  {
   "cell_type": "markdown",
   "id": "desperate-color",
   "metadata": {},
   "source": [
    "Define a function that can accept two strings as input and concatenate them and then print it in console."
   ]
  },
  {
   "cell_type": "code",
   "execution_count": 18,
   "id": "intense-sapphire",
   "metadata": {},
   "outputs": [
    {
     "name": "stdout",
     "output_type": "stream",
     "text": [
      "helloworld\n"
     ]
    }
   ],
   "source": [
    "concatenate = lambda x, y: print(x + y)\n",
    "result = concatenate('hello', 'world')\n",
    "result"
   ]
  },
  {
   "cell_type": "markdown",
   "id": "comic-scroll",
   "metadata": {},
   "source": [
    "**Question 30**"
   ]
  },
  {
   "cell_type": "markdown",
   "id": "hundred-checkout",
   "metadata": {},
   "source": [
    "Define a function that can accept two strings as input and print the string with maximum length in console. If two strings have the same length, then the function should print all strings line by line."
   ]
  },
  {
   "cell_type": "code",
   "execution_count": 19,
   "id": "weekly-edinburgh",
   "metadata": {},
   "outputs": [],
   "source": [
    "def printing(x, y):\n",
    "    if len(x) == len(y):\n",
    "        print(x)\n",
    "        print(y)\n",
    "    elif len(x) > len(y):\n",
    "        print(x)\n",
    "    else:\n",
    "        print(y)"
   ]
  },
  {
   "cell_type": "code",
   "execution_count": 20,
   "id": "portable-textbook",
   "metadata": {},
   "outputs": [
    {
     "name": "stdout",
     "output_type": "stream",
     "text": [
      "world\n"
     ]
    }
   ],
   "source": [
    "printing('hi', 'world')"
   ]
  }
 ],
 "metadata": {
  "kernelspec": {
   "display_name": "Python 3",
   "language": "python",
   "name": "python3"
  },
  "language_info": {
   "codemirror_mode": {
    "name": "ipython",
    "version": 3
   },
   "file_extension": ".py",
   "mimetype": "text/x-python",
   "name": "python",
   "nbconvert_exporter": "python",
   "pygments_lexer": "ipython3",
   "version": "3.8.3"
  },
  "toc": {
   "base_numbering": 1,
   "nav_menu": {},
   "number_sections": true,
   "sideBar": true,
   "skip_h1_title": false,
   "title_cell": "Table of Contents",
   "title_sidebar": "Contents",
   "toc_cell": false,
   "toc_position": {},
   "toc_section_display": true,
   "toc_window_display": false
  }
 },
 "nbformat": 4,
 "nbformat_minor": 5
}

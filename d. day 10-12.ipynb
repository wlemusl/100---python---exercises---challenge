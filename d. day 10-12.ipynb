{
 "cells": [
  {
   "cell_type": "markdown",
   "id": "quality-luxury",
   "metadata": {},
   "source": [
    "### Day 10"
   ]
  },
  {
   "cell_type": "markdown",
   "id": "preceding-housing",
   "metadata": {},
   "source": [
    "**Question 31**"
   ]
  },
  {
   "cell_type": "markdown",
   "id": "floating-renewal",
   "metadata": {},
   "source": [
    "Define a function which can print a dictionary where the keys are numbers between 1 and 20 (both included) and the values are square of keys."
   ]
  },
  {
   "cell_type": "code",
   "execution_count": 1,
   "id": "consolidated-month",
   "metadata": {},
   "outputs": [],
   "source": [
    "def print_dict():\n",
    "    dictionary = {}\n",
    "    for i in range(1, 21):\n",
    "        dictionary[i] = i**2 \n",
    "    return dictionary"
   ]
  },
  {
   "cell_type": "code",
   "execution_count": 2,
   "id": "split-pattern",
   "metadata": {},
   "outputs": [
    {
     "data": {
      "text/plain": [
       "{1: 1,\n",
       " 2: 4,\n",
       " 3: 9,\n",
       " 4: 16,\n",
       " 5: 25,\n",
       " 6: 36,\n",
       " 7: 49,\n",
       " 8: 64,\n",
       " 9: 81,\n",
       " 10: 100,\n",
       " 11: 121,\n",
       " 12: 144,\n",
       " 13: 169,\n",
       " 14: 196,\n",
       " 15: 225,\n",
       " 16: 256,\n",
       " 17: 289,\n",
       " 18: 324,\n",
       " 19: 361,\n",
       " 20: 400}"
      ]
     },
     "execution_count": 2,
     "metadata": {},
     "output_type": "execute_result"
    }
   ],
   "source": [
    "print_dict()"
   ]
  },
  {
   "cell_type": "code",
   "execution_count": 3,
   "id": "conscious-dealing",
   "metadata": {},
   "outputs": [],
   "source": [
    "def print_dict():\n",
    "    dict = {i: i ** 2 for i in range(1, 21)}\n",
    "    return dict"
   ]
  },
  {
   "cell_type": "markdown",
   "id": "competitive-manitoba",
   "metadata": {},
   "source": [
    "**Question 32**"
   ]
  },
  {
   "cell_type": "markdown",
   "id": "operational-volunteer",
   "metadata": {},
   "source": [
    "Define a function which can generate a dictionary where the keys are numbers between 1 and 20 (both included) and the values are square of keys. The function should just print the keys only."
   ]
  },
  {
   "cell_type": "code",
   "execution_count": 4,
   "id": "descending-honor",
   "metadata": {},
   "outputs": [],
   "source": [
    "def print_keys():\n",
    "    dictionary = {}\n",
    "    for i in range(1, 21):\n",
    "        dictionary[i] = i**2 \n",
    "    return dictionary.keys()"
   ]
  },
  {
   "cell_type": "code",
   "execution_count": 5,
   "id": "tropical-friendly",
   "metadata": {},
   "outputs": [
    {
     "data": {
      "text/plain": [
       "dict_keys([1, 2, 3, 4, 5, 6, 7, 8, 9, 10, 11, 12, 13, 14, 15, 16, 17, 18, 19, 20])"
      ]
     },
     "execution_count": 5,
     "metadata": {},
     "output_type": "execute_result"
    }
   ],
   "source": [
    "print_keys()"
   ]
  },
  {
   "cell_type": "markdown",
   "id": "peaceful-invitation",
   "metadata": {},
   "source": [
    "**Question 33**"
   ]
  },
  {
   "cell_type": "markdown",
   "id": "returning-bradford",
   "metadata": {},
   "source": [
    "Define a function which can generate and print a list where the values are square of numbers between 1 and 20 (both included)."
   ]
  },
  {
   "cell_type": "code",
   "execution_count": 6,
   "id": "altered-russell",
   "metadata": {},
   "outputs": [],
   "source": [
    "def print_list():\n",
    "    list = [i**2 for i in range(1,21)]\n",
    "    return list"
   ]
  },
  {
   "cell_type": "code",
   "execution_count": 7,
   "id": "variable-morning",
   "metadata": {},
   "outputs": [
    {
     "data": {
      "text/plain": [
       "[1,\n",
       " 4,\n",
       " 9,\n",
       " 16,\n",
       " 25,\n",
       " 36,\n",
       " 49,\n",
       " 64,\n",
       " 81,\n",
       " 100,\n",
       " 121,\n",
       " 144,\n",
       " 169,\n",
       " 196,\n",
       " 225,\n",
       " 256,\n",
       " 289,\n",
       " 324,\n",
       " 361,\n",
       " 400]"
      ]
     },
     "execution_count": 7,
     "metadata": {},
     "output_type": "execute_result"
    }
   ],
   "source": [
    "print_list()"
   ]
  },
  {
   "cell_type": "markdown",
   "id": "aware-paintball",
   "metadata": {},
   "source": [
    "**Question 34**"
   ]
  },
  {
   "cell_type": "markdown",
   "id": "worth-preliminary",
   "metadata": {},
   "source": [
    "Define a function which can generate a list where the values are square of numbers between 1 and 20 (both included). Then the function needs to print the first 5 elements in the list."
   ]
  },
  {
   "cell_type": "code",
   "execution_count": 8,
   "id": "going-switch",
   "metadata": {},
   "outputs": [],
   "source": [
    "def print_first_5():\n",
    "    list = [i**2 for i in range(1,21)]\n",
    "    for i in range(5):\n",
    "        print(list[i])"
   ]
  },
  {
   "cell_type": "code",
   "execution_count": 9,
   "id": "widespread-luxembourg",
   "metadata": {},
   "outputs": [
    {
     "name": "stdout",
     "output_type": "stream",
     "text": [
      "1\n",
      "4\n",
      "9\n",
      "16\n",
      "25\n"
     ]
    }
   ],
   "source": [
    "print_first_5()"
   ]
  },
  {
   "cell_type": "markdown",
   "id": "requested-engine",
   "metadata": {},
   "source": [
    "**Question 35**"
   ]
  },
  {
   "cell_type": "markdown",
   "id": "loving-blind",
   "metadata": {},
   "source": [
    "Define a function which can generate a list where the values are square of numbers between 1 and 20 (both included). Then the function needs to print the last 5 elements in the list."
   ]
  },
  {
   "cell_type": "code",
   "execution_count": 10,
   "id": "agricultural-metabolism",
   "metadata": {},
   "outputs": [],
   "source": [
    "def print_last_5():\n",
    "    list = [i**2 for i in range(1,21)]\n",
    "    last_5 = list[-5:]\n",
    "    for n in last_5:\n",
    "        print(n)"
   ]
  },
  {
   "cell_type": "code",
   "execution_count": 11,
   "id": "ecological-living",
   "metadata": {},
   "outputs": [
    {
     "name": "stdout",
     "output_type": "stream",
     "text": [
      "256\n",
      "289\n",
      "324\n",
      "361\n",
      "400\n"
     ]
    }
   ],
   "source": [
    "print_last_5()"
   ]
  },
  {
   "cell_type": "markdown",
   "id": "million-nightmare",
   "metadata": {},
   "source": [
    "**Question 36**"
   ]
  },
  {
   "cell_type": "markdown",
   "id": "built-contamination",
   "metadata": {},
   "source": [
    "Define a function which can generate a list where the values are square of numbers between 1 and 20 (both included). Then the function needs to print all values except the first 5 elements in the list."
   ]
  },
  {
   "cell_type": "code",
   "execution_count": 12,
   "id": "spread-daughter",
   "metadata": {},
   "outputs": [],
   "source": [
    "def print_filter():\n",
    "    list = [i**2 for i in range(1,21)]\n",
    "    filter = list[5:]\n",
    "    for n in filter:\n",
    "        print(n)"
   ]
  },
  {
   "cell_type": "code",
   "execution_count": 13,
   "id": "specialized-timer",
   "metadata": {},
   "outputs": [
    {
     "name": "stdout",
     "output_type": "stream",
     "text": [
      "36\n",
      "49\n",
      "64\n",
      "81\n",
      "100\n",
      "121\n",
      "144\n",
      "169\n",
      "196\n",
      "225\n",
      "256\n",
      "289\n",
      "324\n",
      "361\n",
      "400\n"
     ]
    }
   ],
   "source": [
    "print_filter()"
   ]
  },
  {
   "cell_type": "markdown",
   "id": "empty-stockholm",
   "metadata": {},
   "source": [
    "**Question 37**"
   ]
  },
  {
   "cell_type": "markdown",
   "id": "protective-bosnia",
   "metadata": {},
   "source": [
    "Define a function which can generate and print a tuple where the values are square of numbers between 1 and 20 (both included)."
   ]
  },
  {
   "cell_type": "code",
   "execution_count": 14,
   "id": "applicable-annual",
   "metadata": {},
   "outputs": [],
   "source": [
    "def print_tuple():\n",
    "    list = [i**2 for i in range(1,21)]\n",
    "    return print(tuple(list))"
   ]
  },
  {
   "cell_type": "code",
   "execution_count": 15,
   "id": "strategic-breath",
   "metadata": {},
   "outputs": [
    {
     "name": "stdout",
     "output_type": "stream",
     "text": [
      "(1, 4, 9, 16, 25, 36, 49, 64, 81, 100, 121, 144, 169, 196, 225, 256, 289, 324, 361, 400)\n"
     ]
    }
   ],
   "source": [
    "print_tuple()"
   ]
  },
  {
   "cell_type": "markdown",
   "id": "organizational-century",
   "metadata": {},
   "source": [
    "### Day 11"
   ]
  },
  {
   "cell_type": "markdown",
   "id": "cooked-panic",
   "metadata": {},
   "source": [
    "**Question 38**"
   ]
  },
  {
   "cell_type": "markdown",
   "id": "looking-summer",
   "metadata": {},
   "source": [
    "With a given tuple (1,2,3,4,5,6,7,8,9,10), write a program to print the first half values in one line and the last half values in one line."
   ]
  },
  {
   "cell_type": "code",
   "execution_count": 16,
   "id": "binary-standing",
   "metadata": {},
   "outputs": [
    {
     "name": "stdout",
     "output_type": "stream",
     "text": [
      "<class 'tuple'>\n",
      "(1, 2, 3, 4, 5)\n",
      "(6, 7, 8, 9, 10)\n"
     ]
    }
   ],
   "source": [
    "inputs = (1,2,3,4,5,6,7,8,9,10)\n",
    "print(type(inputs))\n",
    "print(inputs[:5])\n",
    "print(inputs[5:])"
   ]
  },
  {
   "cell_type": "markdown",
   "id": "introductory-calendar",
   "metadata": {},
   "source": [
    "**Question 39**"
   ]
  },
  {
   "cell_type": "markdown",
   "id": "conscious-mills",
   "metadata": {},
   "source": [
    "Write a program to generate and print another tuple whose values are even numbers in the given tuple (1,2,3,4,5,6,7,8,9,10)."
   ]
  },
  {
   "cell_type": "code",
   "execution_count": 17,
   "id": "generous-jacob",
   "metadata": {},
   "outputs": [
    {
     "name": "stdout",
     "output_type": "stream",
     "text": [
      "(2, 4, 6, 8, 10)\n"
     ]
    }
   ],
   "source": [
    "inputs = (1,2,3,4,5,6,7,8,9,10)\n",
    "result = []\n",
    "for i in inputs:\n",
    "    if i%2 == 0:\n",
    "        result.append(i)\n",
    "result = tuple(result)\n",
    "print(result)"
   ]
  },
  {
   "cell_type": "code",
   "execution_count": 18,
   "id": "desirable-athens",
   "metadata": {},
   "outputs": [
    {
     "name": "stdout",
     "output_type": "stream",
     "text": [
      "(2, 4, 6, 8, 10)\n"
     ]
    }
   ],
   "source": [
    "inputs = (1,2,3,4,5,6,7,8,9,10)\n",
    "result = tuple(i for i in inputs if i%2 ==0)\n",
    "print(result)"
   ]
  },
  {
   "cell_type": "markdown",
   "id": "marine-string",
   "metadata": {},
   "source": [
    "**Question 40**"
   ]
  },
  {
   "cell_type": "markdown",
   "id": "stupid-student",
   "metadata": {},
   "source": [
    "Write a program which accepts a string as input and print \"Yes\" if the string is \"yes\" or \"YES\" or \"Yes\", otherwise print \"No\"."
   ]
  },
  {
   "cell_type": "code",
   "execution_count": 19,
   "id": "adjustable-chambers",
   "metadata": {},
   "outputs": [
    {
     "name": "stdout",
     "output_type": "stream",
     "text": [
      "Please input your string: yes\n",
      "Yes\n"
     ]
    }
   ],
   "source": [
    "string = input(\"Please input your string: \")\n",
    "\n",
    "if string=='Yes' or string=='YES' or string=='yes':\n",
    "    print('Yes')\n",
    "else:\n",
    "    'No'"
   ]
  },
  {
   "cell_type": "markdown",
   "id": "authorized-joshua",
   "metadata": {},
   "source": [
    "**Question 41**"
   ]
  },
  {
   "cell_type": "markdown",
   "id": "universal-regression",
   "metadata": {},
   "source": [
    "Write a program which can map() to make a list whose elements are square of elements in [1,2,3,4,5,6,7,8,9,10]."
   ]
  },
  {
   "cell_type": "code",
   "execution_count": 20,
   "id": "lasting-setting",
   "metadata": {},
   "outputs": [
    {
     "data": {
      "text/plain": [
       "[1, 4, 9, 16, 25, 36, 49, 64, 81, 100]"
      ]
     },
     "execution_count": 20,
     "metadata": {},
     "output_type": "execute_result"
    }
   ],
   "source": [
    "inputs = [1,2,3,4,5,6,7,8,9,10]\n",
    "result = list(map(lambda x: x**2, inputs))\n",
    "result"
   ]
  },
  {
   "cell_type": "markdown",
   "id": "divine-defense",
   "metadata": {},
   "source": [
    "**Question 42**"
   ]
  },
  {
   "cell_type": "markdown",
   "id": "advisory-investigation",
   "metadata": {},
   "source": [
    "Write a program which can map() and filter() to make a list whose elements are square of even number in [1,2,3,4,5,6,7,8,9,10]."
   ]
  },
  {
   "cell_type": "code",
   "execution_count": 21,
   "id": "expensive-weekly",
   "metadata": {},
   "outputs": [
    {
     "data": {
      "text/plain": [
       "[4, 16, 36, 64, 100]"
      ]
     },
     "execution_count": 21,
     "metadata": {},
     "output_type": "execute_result"
    }
   ],
   "source": [
    "inputs = [1,2,3,4,5,6,7,8,9,10]\n",
    "result = list(map(lambda x: x**2, filter(lambda x: x%2==0, inputs)))\n",
    "result"
   ]
  },
  {
   "cell_type": "markdown",
   "id": "standing-trailer",
   "metadata": {},
   "source": [
    "**Question 43**"
   ]
  },
  {
   "cell_type": "markdown",
   "id": "legitimate-workstation",
   "metadata": {},
   "source": [
    "Write a program which can filter() to make a list whose elements are even number between 1 and 20 (both included)."
   ]
  },
  {
   "cell_type": "code",
   "execution_count": 22,
   "id": "exterior-theology",
   "metadata": {},
   "outputs": [
    {
     "data": {
      "text/plain": [
       "[2, 4, 6, 8, 10, 12, 14, 16, 18, 20]"
      ]
     },
     "execution_count": 22,
     "metadata": {},
     "output_type": "execute_result"
    }
   ],
   "source": [
    "inputs = [i for i in range(1,21)]\n",
    "result = list(filter(lambda x: x%2==0, inputs))\n",
    "result"
   ]
  },
  {
   "cell_type": "code",
   "execution_count": 23,
   "id": "split-kentucky",
   "metadata": {},
   "outputs": [
    {
     "name": "stdout",
     "output_type": "stream",
     "text": [
      "[2, 4, 6, 8, 10, 12, 14, 16, 18, 20]\n"
     ]
    }
   ],
   "source": [
    "def even_numbers(x):\n",
    "    return x % 2 == 0\n",
    "\n",
    "\n",
    "result = filter(even_numbers, range(1, 21))\n",
    "print(list(result))"
   ]
  },
  {
   "cell_type": "markdown",
   "id": "indian-compilation",
   "metadata": {},
   "source": [
    "### Day 12"
   ]
  },
  {
   "cell_type": "markdown",
   "id": "prescription-bacteria",
   "metadata": {},
   "source": [
    "**Question 44**"
   ]
  },
  {
   "cell_type": "markdown",
   "id": "straight-chase",
   "metadata": {},
   "source": [
    "Write a program which can map() to make a list whose elements are square of numbers between 1 and 20 (both included)."
   ]
  },
  {
   "cell_type": "code",
   "execution_count": 24,
   "id": "brilliant-danger",
   "metadata": {},
   "outputs": [
    {
     "data": {
      "text/plain": [
       "[1,\n",
       " 4,\n",
       " 9,\n",
       " 16,\n",
       " 25,\n",
       " 36,\n",
       " 49,\n",
       " 64,\n",
       " 81,\n",
       " 100,\n",
       " 121,\n",
       " 144,\n",
       " 169,\n",
       " 196,\n",
       " 225,\n",
       " 256,\n",
       " 289,\n",
       " 324,\n",
       " 361,\n",
       " 400]"
      ]
     },
     "execution_count": 24,
     "metadata": {},
     "output_type": "execute_result"
    }
   ],
   "source": [
    "inputs = [i for i in range(1,21)]\n",
    "result = list(map(lambda x: x**2, inputs))\n",
    "result"
   ]
  },
  {
   "cell_type": "markdown",
   "id": "fifth-recording",
   "metadata": {},
   "source": [
    "**Question 45**"
   ]
  },
  {
   "cell_type": "markdown",
   "id": "sexual-rehabilitation",
   "metadata": {},
   "source": [
    "Define a class named American which has a static method called printNationality."
   ]
  },
  {
   "cell_type": "code",
   "execution_count": 25,
   "id": "located-broadcast",
   "metadata": {},
   "outputs": [],
   "source": [
    "class American():\n",
    "    def __init__(self, nationality='I am American'):\n",
    "        self.nationality = nationality\n",
    "        \n",
    "    def printNationality(self):\n",
    "        print(self.nationality)"
   ]
  },
  {
   "cell_type": "code",
   "execution_count": 26,
   "id": "significant-hurricane",
   "metadata": {},
   "outputs": [
    {
     "name": "stdout",
     "output_type": "stream",
     "text": [
      "I am American\n"
     ]
    }
   ],
   "source": [
    "Pedro = American()\n",
    "Pedro.printNationality()"
   ]
  },
  {
   "cell_type": "code",
   "execution_count": 27,
   "id": "large-marijuana",
   "metadata": {},
   "outputs": [],
   "source": [
    "class American:\n",
    "    @staticmethod\n",
    "    def printNationality():\n",
    "        print('I am American')"
   ]
  },
  {
   "cell_type": "code",
   "execution_count": 28,
   "id": "threatened-twins",
   "metadata": {},
   "outputs": [
    {
     "name": "stdout",
     "output_type": "stream",
     "text": [
      "I am American\n"
     ]
    }
   ],
   "source": [
    "Pedro = American()\n",
    "Pedro.printNationality()"
   ]
  },
  {
   "cell_type": "code",
   "execution_count": 29,
   "id": "better-vienna",
   "metadata": {},
   "outputs": [
    {
     "name": "stdout",
     "output_type": "stream",
     "text": [
      "I am American\n"
     ]
    }
   ],
   "source": [
    "American.printNationality()"
   ]
  },
  {
   "cell_type": "markdown",
   "id": "bigger-expert",
   "metadata": {},
   "source": [
    "**Question 46**"
   ]
  },
  {
   "cell_type": "markdown",
   "id": "turned-mandate",
   "metadata": {},
   "source": [
    "Define a class named American and its subclass NewYorker."
   ]
  },
  {
   "cell_type": "code",
   "execution_count": 30,
   "id": "compatible-nutrition",
   "metadata": {},
   "outputs": [],
   "source": [
    "class NewYorker(American):\n",
    "    pass"
   ]
  },
  {
   "cell_type": "code",
   "execution_count": 31,
   "id": "human-burlington",
   "metadata": {},
   "outputs": [],
   "source": [
    "Juana = NewYorker()"
   ]
  },
  {
   "cell_type": "code",
   "execution_count": 32,
   "id": "viral-input",
   "metadata": {},
   "outputs": [
    {
     "name": "stdout",
     "output_type": "stream",
     "text": [
      "I am American\n"
     ]
    }
   ],
   "source": [
    "Juana.printNationality()"
   ]
  }
 ],
 "metadata": {
  "kernelspec": {
   "display_name": "Python 3",
   "language": "python",
   "name": "python3"
  },
  "language_info": {
   "codemirror_mode": {
    "name": "ipython",
    "version": 3
   },
   "file_extension": ".py",
   "mimetype": "text/x-python",
   "name": "python",
   "nbconvert_exporter": "python",
   "pygments_lexer": "ipython3",
   "version": "3.8.3"
  },
  "toc": {
   "base_numbering": 1,
   "nav_menu": {},
   "number_sections": true,
   "sideBar": true,
   "skip_h1_title": false,
   "title_cell": "Table of Contents",
   "title_sidebar": "Contents",
   "toc_cell": false,
   "toc_position": {},
   "toc_section_display": true,
   "toc_window_display": false
  }
 },
 "nbformat": 4,
 "nbformat_minor": 5
}

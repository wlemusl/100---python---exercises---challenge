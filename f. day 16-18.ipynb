{
 "cells": [
  {
   "cell_type": "markdown",
   "id": "outdoor-white",
   "metadata": {},
   "source": [
    "### Day 16"
   ]
  },
  {
   "cell_type": "markdown",
   "id": "cathedral-papua",
   "metadata": {},
   "source": [
    "**Question 60**"
   ]
  },
  {
   "cell_type": "markdown",
   "id": "religious-feeling",
   "metadata": {},
   "source": [
    "Write a program to compute:\n",
    "\n",
    "$f(n)=f(n-1)+100$ when n>0\n",
    "\n",
    "and $f(0)=0$\n",
    "\n",
    "with a given n input by console (n>0).\n",
    "\n",
    "Example: If the following n is given as input to the program:\n",
    "\n",
    "5\n",
    "\n",
    "Then, the output of the program should be:\n",
    "\n",
    "500\n",
    "\n",
    "In case of input data being supplied to the question, it should be assumed to be a console input."
   ]
  },
  {
   "cell_type": "code",
   "execution_count": 1,
   "id": "possible-subscriber",
   "metadata": {},
   "outputs": [],
   "source": [
    "def function(n):\n",
    "    if n == 0:\n",
    "        return 0\n",
    "    else:\n",
    "        result = function(n-1) + 100\n",
    "        return result"
   ]
  },
  {
   "cell_type": "code",
   "execution_count": 2,
   "id": "expected-lunch",
   "metadata": {},
   "outputs": [
    {
     "data": {
      "text/plain": [
       "0"
      ]
     },
     "execution_count": 2,
     "metadata": {},
     "output_type": "execute_result"
    }
   ],
   "source": [
    "function(0)"
   ]
  },
  {
   "cell_type": "code",
   "execution_count": 3,
   "id": "cognitive-screening",
   "metadata": {},
   "outputs": [
    {
     "data": {
      "text/plain": [
       "500"
      ]
     },
     "execution_count": 3,
     "metadata": {},
     "output_type": "execute_result"
    }
   ],
   "source": [
    "function(5)"
   ]
  },
  {
   "cell_type": "markdown",
   "id": "aboriginal-letters",
   "metadata": {},
   "source": [
    "**Question 61**"
   ]
  },
  {
   "cell_type": "markdown",
   "id": "otherwise-harassment",
   "metadata": {},
   "source": [
    "The Fibonacci Sequence is computed based on the following formula:\n",
    "\n",
    "$f(n)=0$ if n=0\n",
    "\n",
    "$f(n)=1$ if n=1\n",
    "\n",
    "$f(n)=f(n-1)+f(n-2)$ if n>1\n",
    "\n",
    "Please write a program to compute the value of f(n) with a given n input by console.\n",
    "\n",
    "Example: If the following n is given as input to the program:\n",
    "\n",
    "7\n",
    "\n",
    "Then, the output of the program should be:\n",
    "\n",
    "13\n",
    "\n",
    "In case of input data being supplied to the question, it should be assumed to be a console input."
   ]
  },
  {
   "cell_type": "code",
   "execution_count": 4,
   "id": "designed-creation",
   "metadata": {},
   "outputs": [
    {
     "data": {
      "text/plain": [
       "13"
      ]
     },
     "execution_count": 4,
     "metadata": {},
     "output_type": "execute_result"
    }
   ],
   "source": [
    "def Fibonacci(n):\n",
    "    if n == 0:\n",
    "        return 0\n",
    "    elif n == 1:\n",
    "        return 1\n",
    "    else:\n",
    "        return Fibonacci(n-1) + Fibonacci(n-2)\n",
    "    \n",
    "Fibonacci(7)"
   ]
  },
  {
   "cell_type": "code",
   "execution_count": 5,
   "id": "anonymous-expert",
   "metadata": {},
   "outputs": [
    {
     "data": {
      "text/plain": [
       "13"
      ]
     },
     "execution_count": 5,
     "metadata": {},
     "output_type": "execute_result"
    }
   ],
   "source": [
    "def Fibi(n):\n",
    "    if n == 0:\n",
    "        return 0\n",
    "    else:\n",
    "        old, new = 0, 1\n",
    "        for i in range(n-1):\n",
    "            old, new = new, old+new\n",
    "        return new\n",
    "\n",
    "Fibi(7)"
   ]
  },
  {
   "cell_type": "code",
   "execution_count": 6,
   "id": "romantic-mortgage",
   "metadata": {},
   "outputs": [
    {
     "name": "stdout",
     "output_type": "stream",
     "text": [
      "0\n",
      "1\n",
      "1\n",
      "2\n",
      "3\n",
      "5\n",
      "8\n",
      "13\n"
     ]
    }
   ],
   "source": [
    "start = 0\n",
    "n_1 = 0\n",
    "n_2 = 1\n",
    "\n",
    "print(n_1)\n",
    "print(n_2)\n",
    "for i in range(6):\n",
    "    if i == 0:\n",
    "        n_1 += n_2\n",
    "        n_2 = start + n_2\n",
    "        print(n_2)\n",
    "    else:\n",
    "        x = n_2\n",
    "        n_2 += n_1\n",
    "        print(n_2)\n",
    "        n_1 = x"
   ]
  },
  {
   "cell_type": "markdown",
   "id": "informal-puppy",
   "metadata": {},
   "source": [
    "**Question 62**"
   ]
  },
  {
   "cell_type": "markdown",
   "id": "cleared-variance",
   "metadata": {},
   "source": [
    "The Fibonacci Sequence is computed based on the following formula:\n",
    "\n",
    "$f(n)=0$ if n=0\n",
    "\n",
    "$f(n)=1$ if n=1\n",
    "\n",
    "$f(n)=f(n-1)+f(n-2)$ if n>1\n",
    "\n",
    "Please write a program to compute all the values of f(n) with a given n input by console.\n",
    "\n",
    "Example: If the following n is given as input to the program:\n",
    "\n",
    "7\n",
    "\n",
    "Then, the output of the program should be:\n",
    "\n",
    "0,1,1,2,3,5,8,13\n",
    "\n",
    "In case of input data being supplied to the question, it should be assumed to be a console input."
   ]
  },
  {
   "cell_type": "code",
   "execution_count": 7,
   "id": "structured-sequence",
   "metadata": {},
   "outputs": [],
   "source": [
    "def Fibonacci(n):\n",
    "    if n == 0:\n",
    "        return 0\n",
    "    elif n == 1:\n",
    "        return 1\n",
    "    else:\n",
    "        return Fibonacci(n-1) + Fibonacci(n-2)"
   ]
  },
  {
   "cell_type": "code",
   "execution_count": 8,
   "id": "empirical-consumer",
   "metadata": {},
   "outputs": [
    {
     "name": "stdout",
     "output_type": "stream",
     "text": [
      "Input one number: 7\n",
      "0,1,1,2,3,5,8,13\n"
     ]
    }
   ],
   "source": [
    "k = int(input(\"Input one number: \"))\n",
    "\n",
    "fibonacci = [str(Fibonacci(n)) for n in range(k+1)]\n",
    "print(','.join(fibonacci))"
   ]
  },
  {
   "cell_type": "markdown",
   "id": "configured-terry",
   "metadata": {},
   "source": [
    "**Question 63**"
   ]
  },
  {
   "cell_type": "markdown",
   "id": "protective-agriculture",
   "metadata": {},
   "source": [
    "Please write a program using generator to print the even numbers between 0 and n in comma separated form while n is input by console.\n",
    "\n",
    "Example: If the following n is given as input to the program:\n",
    "\n",
    "10\n",
    "\n",
    "Then, the output of the program should be:\n",
    "\n",
    "0,2,4,6,8,10\n",
    "\n",
    "In case of input data being supplied to the question, it should be assumed to be a console input."
   ]
  },
  {
   "cell_type": "code",
   "execution_count": 9,
   "id": "controlled-nickel",
   "metadata": {},
   "outputs": [],
   "source": [
    "def generator(n):\n",
    "    yield [i for i in range(n+1) if i%2==0]      "
   ]
  },
  {
   "cell_type": "code",
   "execution_count": 10,
   "id": "intense-renaissance",
   "metadata": {},
   "outputs": [
    {
     "name": "stdout",
     "output_type": "stream",
     "text": [
      "Input one number: 10\n",
      "[0, 2, 4, 6, 8, 10]\n"
     ]
    }
   ],
   "source": [
    "n = int(input(\"Input one number: \"))\n",
    "even_generator = generator(n)\n",
    "values = []\n",
    "\n",
    "for i in even_generator:\n",
    "    values.append(str(i))\n",
    "\n",
    "print(''.join(values))"
   ]
  },
  {
   "cell_type": "markdown",
   "id": "sought-hopkins",
   "metadata": {},
   "source": [
    "**Question 64**"
   ]
  },
  {
   "cell_type": "markdown",
   "id": "lesbian-salvation",
   "metadata": {},
   "source": [
    "Please write a program using generator to print the numbers which can be divisible by 5 and 7 between 0 and n in comma separated form while n is input by console.\n",
    "\n",
    "Example: If the following n is given as input to the program:\n",
    "\n",
    "100\n",
    "\n",
    "Then, the output of the program should be:\n",
    "\n",
    "0,35,70\n",
    "\n",
    "In case of input data being supplied to the question, it should be assumed to be a console input."
   ]
  },
  {
   "cell_type": "code",
   "execution_count": 11,
   "id": "incomplete-officer",
   "metadata": {},
   "outputs": [],
   "source": [
    "def generator(n):\n",
    "    yield [i for i in range(n+1) if i%5==0 and i%7==0]  "
   ]
  },
  {
   "cell_type": "code",
   "execution_count": 12,
   "id": "rotary-conditioning",
   "metadata": {},
   "outputs": [
    {
     "name": "stdout",
     "output_type": "stream",
     "text": [
      "Input one number: 100\n",
      "[0, 35, 70]\n"
     ]
    }
   ],
   "source": [
    "n = int(input(\"Input one number: \"))\n",
    "even_generator = generator(n)\n",
    "values = []\n",
    "\n",
    "for i in even_generator:\n",
    "    values.append(str(i))\n",
    "\n",
    "print(''.join(values))"
   ]
  },
  {
   "cell_type": "markdown",
   "id": "tutorial-privacy",
   "metadata": {},
   "source": [
    "### Day 17"
   ]
  },
  {
   "cell_type": "markdown",
   "id": "national-genre",
   "metadata": {},
   "source": [
    "**Question 65**"
   ]
  },
  {
   "cell_type": "markdown",
   "id": "nominated-paradise",
   "metadata": {},
   "source": [
    "Please write assert statements to verify that every number in the list [2,4,6,8] is even."
   ]
  },
  {
   "cell_type": "code",
   "execution_count": 13,
   "id": "mechanical-enough",
   "metadata": {},
   "outputs": [],
   "source": [
    "numbers = [2,4,6,8]\n",
    "\n",
    "for i in numbers:\n",
    "    assert i%2 == 0, \"{} is not an even number\".format(i)"
   ]
  },
  {
   "cell_type": "markdown",
   "id": "together-converter",
   "metadata": {},
   "source": [
    "**Question 66**"
   ]
  },
  {
   "cell_type": "markdown",
   "id": "liable-display",
   "metadata": {},
   "source": [
    "Please write a program which accepts basic mathematic expression from console and print the evaluation result.\n",
    "\n",
    "Example: If the following n is given as input to the program:\n",
    "\n",
    "35 + 3\n",
    "\n",
    "Then, the output of the program should be:\n",
    "\n",
    "38"
   ]
  },
  {
   "cell_type": "code",
   "execution_count": 14,
   "id": "capital-behavior",
   "metadata": {},
   "outputs": [
    {
     "name": "stdout",
     "output_type": "stream",
     "text": [
      "Input your basic mathematic expression: 35+3\n"
     ]
    },
    {
     "data": {
      "text/plain": [
       "38"
      ]
     },
     "execution_count": 14,
     "metadata": {},
     "output_type": "execute_result"
    }
   ],
   "source": [
    "expression = input(\"Input your basic mathematic expression: \")\n",
    "answer = eval(expression)\n",
    "answer"
   ]
  },
  {
   "cell_type": "markdown",
   "id": "other-developer",
   "metadata": {},
   "source": [
    "**Question 67**"
   ]
  },
  {
   "cell_type": "markdown",
   "id": "little-murray",
   "metadata": {},
   "source": [
    "Please write a binary search function which searches an item in a sorted list. The function should return the index of element to be searched in the list."
   ]
  },
  {
   "cell_type": "code",
   "execution_count": 15,
   "id": "quantitative-photograph",
   "metadata": {},
   "outputs": [
    {
     "name": "stdout",
     "output_type": "stream",
     "text": [
      "[1, 3, 5, 8, 10, 12, 13, 25, 55, 66, 73, 78, 82, 85, 88, 99, 102, 120, 148, 250]\n"
     ]
    }
   ],
   "source": [
    "lst = [1, 5, 8, 10, 12, 13, 55, 66, 73, 78, 82, 85, 88, 99, 3, 102, 120, 148, 250, 25]\n",
    "lst = sorted(lst)\n",
    "print(lst)"
   ]
  },
  {
   "cell_type": "code",
   "execution_count": 16,
   "id": "mysterious-nomination",
   "metadata": {},
   "outputs": [],
   "source": [
    "# Option 1, but this is not binary search.\n",
    "def search(lst, item):\n",
    "    indexes = [i for i in range(len(lst)) if lst[i] == item]\n",
    "    return indexes"
   ]
  },
  {
   "cell_type": "code",
   "execution_count": 17,
   "id": "secure-joint",
   "metadata": {},
   "outputs": [],
   "source": [
    "# Option 2     \n",
    "def search_2(lst, item):\n",
    "    lst = sorted(lst)\n",
    "    lower = 0          \n",
    "    upper = len(lst)-1    \n",
    "    \n",
    "    while lower < upper:\n",
    "        search = (upper+lower)//2 \n",
    "        if lst[search] == item:\n",
    "            return search\n",
    "        elif lst[upper] == item:\n",
    "            return upper\n",
    "        elif lst[lower] == item:\n",
    "            return lower\n",
    "        \n",
    "        elif item < lst[search]:\n",
    "            lower = 0\n",
    "            upper = search-1\n",
    "        else:\n",
    "            lower = search+1"
   ]
  },
  {
   "cell_type": "code",
   "execution_count": 18,
   "id": "wooden-ecuador",
   "metadata": {},
   "outputs": [],
   "source": [
    "# Option 3    \n",
    "def search_3(lst, item):\n",
    "    lst = sorted(lst)\n",
    "    lower = 0          \n",
    "    upper = len(lst)   \n",
    "    \n",
    "    while lower < upper:\n",
    "        search = (upper+lower)//2 \n",
    "        if lst[search] == item:\n",
    "            return search\n",
    "        elif item < lst[search]:\n",
    "            upper = search\n",
    "        else:\n",
    "            lower = search"
   ]
  },
  {
   "cell_type": "code",
   "execution_count": 19,
   "id": "according-surge",
   "metadata": {},
   "outputs": [
    {
     "data": {
      "text/plain": [
       "4"
      ]
     },
     "execution_count": 19,
     "metadata": {},
     "output_type": "execute_result"
    }
   ],
   "source": [
    "search_2(lst, 10)"
   ]
  },
  {
   "cell_type": "code",
   "execution_count": 20,
   "id": "centered-texture",
   "metadata": {},
   "outputs": [
    {
     "data": {
      "text/plain": [
       "4"
      ]
     },
     "execution_count": 20,
     "metadata": {},
     "output_type": "execute_result"
    }
   ],
   "source": [
    "search_3(lst,10)"
   ]
  },
  {
   "cell_type": "markdown",
   "id": "united-lesbian",
   "metadata": {},
   "source": [
    "**Question 68**"
   ]
  },
  {
   "cell_type": "markdown",
   "id": "offshore-demographic",
   "metadata": {},
   "source": [
    "Please generate a random float where the value is between 10 and 100 using Python module."
   ]
  },
  {
   "cell_type": "code",
   "execution_count": 21,
   "id": "fuzzy-rebate",
   "metadata": {},
   "outputs": [],
   "source": [
    "import random"
   ]
  },
  {
   "cell_type": "code",
   "execution_count": 22,
   "id": "formed-indonesian",
   "metadata": {},
   "outputs": [],
   "source": [
    "def random_number():\n",
    "    x = 0\n",
    "    while x < 10:\n",
    "        x = random.random()*100\n",
    "        if x > 10:\n",
    "            return x    "
   ]
  },
  {
   "cell_type": "code",
   "execution_count": 23,
   "id": "raising-colors",
   "metadata": {},
   "outputs": [
    {
     "data": {
      "text/plain": [
       "70.63639131383566"
      ]
     },
     "execution_count": 23,
     "metadata": {},
     "output_type": "execute_result"
    }
   ],
   "source": [
    "random_number()"
   ]
  },
  {
   "cell_type": "code",
   "execution_count": 24,
   "id": "higher-terrorist",
   "metadata": {},
   "outputs": [
    {
     "data": {
      "text/plain": [
       "65.42112505649607"
      ]
     },
     "execution_count": 24,
     "metadata": {},
     "output_type": "execute_result"
    }
   ],
   "source": [
    "random.uniform(10,100)"
   ]
  },
  {
   "cell_type": "markdown",
   "id": "thermal-whale",
   "metadata": {},
   "source": [
    "**Question 69**"
   ]
  },
  {
   "cell_type": "markdown",
   "id": "adult-humidity",
   "metadata": {},
   "source": [
    "Please generate a random float where the value is between 5 and 95 using Python module."
   ]
  },
  {
   "cell_type": "code",
   "execution_count": 25,
   "id": "attached-index",
   "metadata": {},
   "outputs": [
    {
     "data": {
      "text/plain": [
       "88.50868315943286"
      ]
     },
     "execution_count": 25,
     "metadata": {},
     "output_type": "execute_result"
    }
   ],
   "source": [
    "random.uniform(5, 95)"
   ]
  },
  {
   "cell_type": "markdown",
   "id": "veterinary-mercy",
   "metadata": {},
   "source": [
    "### Day 18"
   ]
  },
  {
   "cell_type": "markdown",
   "id": "upper-material",
   "metadata": {},
   "source": [
    "**Question 70**"
   ]
  },
  {
   "cell_type": "markdown",
   "id": "thousand-buffalo",
   "metadata": {},
   "source": [
    "Please write a program to output a random even number between 0 and 10 using random module and list comprehension."
   ]
  },
  {
   "cell_type": "code",
   "execution_count": 26,
   "id": "amateur-martial",
   "metadata": {},
   "outputs": [
    {
     "data": {
      "text/plain": [
       "4"
      ]
     },
     "execution_count": 26,
     "metadata": {},
     "output_type": "execute_result"
    }
   ],
   "source": [
    "import random\n",
    "\n",
    "# Option 1\n",
    "random.choice([i for i in range(0,11) if i%2==0])"
   ]
  },
  {
   "cell_type": "code",
   "execution_count": 27,
   "id": "disabled-disco",
   "metadata": {},
   "outputs": [
    {
     "data": {
      "text/plain": [
       "6"
      ]
     },
     "execution_count": 27,
     "metadata": {},
     "output_type": "execute_result"
    }
   ],
   "source": [
    "# Option 2\n",
    "random.choice([i for i in range(0,11,2)])"
   ]
  },
  {
   "cell_type": "markdown",
   "id": "rubber-suicide",
   "metadata": {},
   "source": [
    "**Question 71**"
   ]
  },
  {
   "cell_type": "markdown",
   "id": "acting-homework",
   "metadata": {},
   "source": [
    "Please write a program to output a random number, which is divisible by 5 and 7, between 10 and 150 using random module and list comprehension."
   ]
  },
  {
   "cell_type": "code",
   "execution_count": 28,
   "id": "cheap-electronics",
   "metadata": {},
   "outputs": [
    {
     "data": {
      "text/plain": [
       "35"
      ]
     },
     "execution_count": 28,
     "metadata": {},
     "output_type": "execute_result"
    }
   ],
   "source": [
    "import random\n",
    "random.choice([i for i in range(10,151) if i%35==0])"
   ]
  },
  {
   "cell_type": "markdown",
   "id": "statistical-practitioner",
   "metadata": {},
   "source": [
    "**Question 72**"
   ]
  },
  {
   "cell_type": "markdown",
   "id": "elegant-allen",
   "metadata": {},
   "source": [
    "Please write a program to generate a list with 5 random numbers between 100 and 200."
   ]
  },
  {
   "cell_type": "code",
   "execution_count": 29,
   "id": "powered-detection",
   "metadata": {},
   "outputs": [
    {
     "data": {
      "text/plain": [
       "[131, 169, 128, 134, 196]"
      ]
     },
     "execution_count": 29,
     "metadata": {},
     "output_type": "execute_result"
    }
   ],
   "source": [
    "import random\n",
    "numbers = [i for i in range(100,201)]\n",
    "random.sample(numbers, 5)"
   ]
  },
  {
   "cell_type": "markdown",
   "id": "interested-excess",
   "metadata": {},
   "source": [
    "**Question 73**"
   ]
  },
  {
   "cell_type": "markdown",
   "id": "short-pittsburgh",
   "metadata": {},
   "source": [
    "Please write a program to randomly generate a list with 5 even numbers between 100 and 200."
   ]
  },
  {
   "cell_type": "code",
   "execution_count": 30,
   "id": "viral-frank",
   "metadata": {},
   "outputs": [
    {
     "data": {
      "text/plain": [
       "[152, 132, 140, 198, 144]"
      ]
     },
     "execution_count": 30,
     "metadata": {},
     "output_type": "execute_result"
    }
   ],
   "source": [
    "import random\n",
    "random.sample(range(100,201,2), 5)"
   ]
  },
  {
   "cell_type": "markdown",
   "id": "played-beverage",
   "metadata": {},
   "source": [
    "**Question 74**"
   ]
  },
  {
   "cell_type": "markdown",
   "id": "written-morrison",
   "metadata": {},
   "source": [
    "Please write a program to randomly generate a list with 5 numbers, which are divisible by 5 and 7 , between 1 and 1000."
   ]
  },
  {
   "cell_type": "code",
   "execution_count": 31,
   "id": "prompt-campus",
   "metadata": {},
   "outputs": [
    {
     "data": {
      "text/plain": [
       "[770, 980, 315, 455, 420]"
      ]
     },
     "execution_count": 31,
     "metadata": {},
     "output_type": "execute_result"
    }
   ],
   "source": [
    "import random\n",
    "numbers = [i for i in range(1, 1001) if i%35==0]\n",
    "random.sample(numbers, 5)"
   ]
  }
 ],
 "metadata": {
  "kernelspec": {
   "display_name": "Python 3",
   "language": "python",
   "name": "python3"
  },
  "language_info": {
   "codemirror_mode": {
    "name": "ipython",
    "version": 3
   },
   "file_extension": ".py",
   "mimetype": "text/x-python",
   "name": "python",
   "nbconvert_exporter": "python",
   "pygments_lexer": "ipython3",
   "version": "3.8.3"
  },
  "toc": {
   "base_numbering": 1,
   "nav_menu": {},
   "number_sections": true,
   "sideBar": true,
   "skip_h1_title": false,
   "title_cell": "Table of Contents",
   "title_sidebar": "Contents",
   "toc_cell": false,
   "toc_position": {},
   "toc_section_display": true,
   "toc_window_display": false
  }
 },
 "nbformat": 4,
 "nbformat_minor": 5
}

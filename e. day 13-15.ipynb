{
 "cells": [
  {
   "cell_type": "markdown",
   "id": "occasional-badge",
   "metadata": {},
   "source": [
    "### Day 13"
   ]
  },
  {
   "cell_type": "markdown",
   "id": "exotic-shakespeare",
   "metadata": {},
   "source": [
    "**Question 47**"
   ]
  },
  {
   "cell_type": "markdown",
   "id": "polar-administrator",
   "metadata": {},
   "source": [
    "Define a class named Circle which can be constructed by a radius. The Circle class has a method which can compute the area."
   ]
  },
  {
   "cell_type": "code",
   "execution_count": 1,
   "id": "graduate-aruba",
   "metadata": {},
   "outputs": [],
   "source": [
    "import math\n",
    "\n",
    "class Circle:\n",
    "    \n",
    "    def __init__(self, r):\n",
    "        self.r = r\n",
    "    \n",
    "    def area(self):\n",
    "        return round(math.pi*self.r**2)"
   ]
  },
  {
   "cell_type": "code",
   "execution_count": 2,
   "id": "divine-positive",
   "metadata": {},
   "outputs": [
    {
     "data": {
      "text/plain": [
       "50"
      ]
     },
     "execution_count": 2,
     "metadata": {},
     "output_type": "execute_result"
    }
   ],
   "source": [
    "circle = Circle(4)\n",
    "circle.area()"
   ]
  },
  {
   "cell_type": "markdown",
   "id": "aging-gambling",
   "metadata": {},
   "source": [
    "**Question 48**"
   ]
  },
  {
   "cell_type": "markdown",
   "id": "floral-tobago",
   "metadata": {},
   "source": [
    "Define a class named Rectangle which can be constructed by a length and width. The Rectangle class has a method which can compute the area."
   ]
  },
  {
   "cell_type": "code",
   "execution_count": 3,
   "id": "smooth-enemy",
   "metadata": {},
   "outputs": [],
   "source": [
    "class Rectangle:\n",
    "    \n",
    "    def __init__(self, l, w):\n",
    "        self.length = l\n",
    "        self.width = w\n",
    "    \n",
    "    def area(self):\n",
    "        return round(self.length*self.width)"
   ]
  },
  {
   "cell_type": "code",
   "execution_count": 4,
   "id": "hired-provision",
   "metadata": {},
   "outputs": [
    {
     "data": {
      "text/plain": [
       "20"
      ]
     },
     "execution_count": 4,
     "metadata": {},
     "output_type": "execute_result"
    }
   ],
   "source": [
    "rectangle = Rectangle(l=5, w=4)\n",
    "rectangle.area()"
   ]
  },
  {
   "cell_type": "markdown",
   "id": "noble-flashing",
   "metadata": {},
   "source": [
    "**Question 49**"
   ]
  },
  {
   "cell_type": "markdown",
   "id": "taken-reputation",
   "metadata": {},
   "source": [
    "Define a class named Shape and its subclass Square. The Square class has an init function which takes a length as argument. Both classes have a area function which can print the area of the shape where Shape's area is 0 by default."
   ]
  },
  {
   "cell_type": "code",
   "execution_count": 5,
   "id": "charming-truck",
   "metadata": {},
   "outputs": [],
   "source": [
    "class Shape:\n",
    "    def __init__(self):\n",
    "        pass\n",
    "        \n",
    "    def area(self):\n",
    "        return 0"
   ]
  },
  {
   "cell_type": "code",
   "execution_count": 6,
   "id": "clear-railway",
   "metadata": {},
   "outputs": [],
   "source": [
    "class Square(Shape):\n",
    "    \n",
    "    def __init__(self, l=0):\n",
    "        Shape.__init__(self)\n",
    "        self.length = l\n",
    "        \n",
    "    def area(self):\n",
    "        return self.length**2"
   ]
  },
  {
   "cell_type": "code",
   "execution_count": 7,
   "id": "banner-savings",
   "metadata": {},
   "outputs": [
    {
     "data": {
      "text/plain": [
       "0"
      ]
     },
     "execution_count": 7,
     "metadata": {},
     "output_type": "execute_result"
    }
   ],
   "source": [
    "square_1 = Square()\n",
    "square_1.area()"
   ]
  },
  {
   "cell_type": "code",
   "execution_count": 8,
   "id": "fresh-condition",
   "metadata": {},
   "outputs": [
    {
     "data": {
      "text/plain": [
       "25"
      ]
     },
     "execution_count": 8,
     "metadata": {},
     "output_type": "execute_result"
    }
   ],
   "source": [
    "square_2 = Square(5)\n",
    "square_2.area()"
   ]
  },
  {
   "cell_type": "code",
   "execution_count": 9,
   "id": "another-anxiety",
   "metadata": {},
   "outputs": [
    {
     "data": {
      "text/plain": [
       "0"
      ]
     },
     "execution_count": 9,
     "metadata": {},
     "output_type": "execute_result"
    }
   ],
   "source": [
    "Square().area()"
   ]
  },
  {
   "cell_type": "code",
   "execution_count": 10,
   "id": "understanding-revision",
   "metadata": {},
   "outputs": [
    {
     "data": {
      "text/plain": [
       "0"
      ]
     },
     "execution_count": 10,
     "metadata": {},
     "output_type": "execute_result"
    }
   ],
   "source": [
    "Shape().area()"
   ]
  },
  {
   "cell_type": "markdown",
   "id": "daily-advocacy",
   "metadata": {},
   "source": [
    "**Question 50**"
   ]
  },
  {
   "cell_type": "markdown",
   "id": "theoretical-study",
   "metadata": {},
   "source": [
    "Please raise a RuntimeError exception."
   ]
  },
  {
   "cell_type": "code",
   "execution_count": 11,
   "id": "warming-membrane",
   "metadata": {},
   "outputs": [
    {
     "ename": "Exception",
     "evalue": "y cannot be 0",
     "output_type": "error",
     "traceback": [
      "\u001b[1;31m---------------------------------------------------------------------------\u001b[0m",
      "\u001b[1;31mException\u001b[0m                                 Traceback (most recent call last)",
      "\u001b[1;32m<ipython-input-11-421b133ded53>\u001b[0m in \u001b[0;36m<module>\u001b[1;34m\u001b[0m\n\u001b[0;32m      3\u001b[0m \u001b[1;33m\u001b[0m\u001b[0m\n\u001b[0;32m      4\u001b[0m \u001b[1;32mif\u001b[0m \u001b[0my\u001b[0m \u001b[1;33m==\u001b[0m \u001b[1;36m0\u001b[0m\u001b[1;33m:\u001b[0m\u001b[1;33m\u001b[0m\u001b[1;33m\u001b[0m\u001b[0m\n\u001b[1;32m----> 5\u001b[1;33m     \u001b[1;32mraise\u001b[0m \u001b[0mException\u001b[0m\u001b[1;33m(\u001b[0m\u001b[1;34m'y cannot be 0'\u001b[0m\u001b[1;33m)\u001b[0m\u001b[1;33m\u001b[0m\u001b[1;33m\u001b[0m\u001b[0m\n\u001b[0m\u001b[0;32m      6\u001b[0m \u001b[1;33m\u001b[0m\u001b[0m\n\u001b[0;32m      7\u001b[0m \u001b[0mx\u001b[0m\u001b[1;33m/\u001b[0m\u001b[0my\u001b[0m\u001b[1;33m\u001b[0m\u001b[1;33m\u001b[0m\u001b[0m\n",
      "\u001b[1;31mException\u001b[0m: y cannot be 0"
     ]
    }
   ],
   "source": [
    "x = 5\n",
    "y = 0\n",
    "\n",
    "if y == 0:\n",
    "    raise Exception('y cannot be 0')\n",
    "    \n",
    "x/y"
   ]
  },
  {
   "cell_type": "code",
   "execution_count": 12,
   "id": "anonymous-invention",
   "metadata": {},
   "outputs": [
    {
     "ename": "RuntimeError",
     "evalue": "something wrong",
     "output_type": "error",
     "traceback": [
      "\u001b[1;31m---------------------------------------------------------------------------\u001b[0m",
      "\u001b[1;31mRuntimeError\u001b[0m                              Traceback (most recent call last)",
      "\u001b[1;32m<ipython-input-12-5fe8f779d579>\u001b[0m in \u001b[0;36m<module>\u001b[1;34m\u001b[0m\n\u001b[1;32m----> 1\u001b[1;33m \u001b[1;32mraise\u001b[0m \u001b[0mRuntimeError\u001b[0m\u001b[1;33m(\u001b[0m\u001b[1;34m\"something wrong\"\u001b[0m\u001b[1;33m)\u001b[0m\u001b[1;33m\u001b[0m\u001b[1;33m\u001b[0m\u001b[0m\n\u001b[0m",
      "\u001b[1;31mRuntimeError\u001b[0m: something wrong"
     ]
    }
   ],
   "source": [
    "raise RuntimeError(\"something wrong\")"
   ]
  },
  {
   "cell_type": "markdown",
   "id": "lined-revolution",
   "metadata": {},
   "source": [
    "### Day 14"
   ]
  },
  {
   "cell_type": "markdown",
   "id": "dedicated-ecology",
   "metadata": {},
   "source": [
    "**Question 51**"
   ]
  },
  {
   "cell_type": "markdown",
   "id": "canadian-leadership",
   "metadata": {},
   "source": [
    "Write a function to compute 5/0 and use try/except to catch the exceptions."
   ]
  },
  {
   "cell_type": "code",
   "execution_count": 13,
   "id": "adolescent-thesis",
   "metadata": {},
   "outputs": [],
   "source": [
    "def division(x, y):\n",
    "    try:\n",
    "        return x/y\n",
    "    except:\n",
    "        return 'Why on earth you are dividing a number by ZERO...'"
   ]
  },
  {
   "cell_type": "code",
   "execution_count": 14,
   "id": "gothic-mobile",
   "metadata": {},
   "outputs": [
    {
     "data": {
      "text/plain": [
       "'Why on earth you are dividing a number by ZERO...'"
      ]
     },
     "execution_count": 14,
     "metadata": {},
     "output_type": "execute_result"
    }
   ],
   "source": [
    "division(x=5, y=0)"
   ]
  },
  {
   "cell_type": "code",
   "execution_count": 15,
   "id": "another-sleeve",
   "metadata": {},
   "outputs": [
    {
     "data": {
      "text/plain": [
       "-2.5"
      ]
     },
     "execution_count": 15,
     "metadata": {},
     "output_type": "execute_result"
    }
   ],
   "source": [
    "division(x=5, y=-2)"
   ]
  },
  {
   "cell_type": "markdown",
   "id": "median-european",
   "metadata": {},
   "source": [
    "**Question 52**"
   ]
  },
  {
   "cell_type": "markdown",
   "id": "progressive-threshold",
   "metadata": {},
   "source": [
    "Define a custom exception class which takes a string message as attribute."
   ]
  },
  {
   "cell_type": "code",
   "execution_count": 16,
   "id": "selected-improvement",
   "metadata": {},
   "outputs": [],
   "source": [
    "class CustomException(Exception):\n",
    "    \"\"\"Exception raised for a custom purpose\n",
    "\n",
    "    Attributes:\n",
    "        message -- explanation of the error\n",
    "    \"\"\"\n",
    "    \n",
    "    def __init__(self, message=None):\n",
    "        self.message = message"
   ]
  },
  {
   "cell_type": "code",
   "execution_count": 17,
   "id": "automatic-relief",
   "metadata": {},
   "outputs": [
    {
     "name": "stdout",
     "output_type": "stream",
     "text": [
      "Input a number: 7\n"
     ]
    },
    {
     "ename": "CustomException",
     "evalue": "The number cannot be less than 10.",
     "output_type": "error",
     "traceback": [
      "\u001b[1;31m---------------------------------------------------------------------------\u001b[0m",
      "\u001b[1;31mCustomException\u001b[0m                           Traceback (most recent call last)",
      "\u001b[1;32m<ipython-input-17-9b98dc9c8f9d>\u001b[0m in \u001b[0;36m<module>\u001b[1;34m\u001b[0m\n\u001b[0;32m      2\u001b[0m \u001b[1;33m\u001b[0m\u001b[0m\n\u001b[0;32m      3\u001b[0m \u001b[1;32mif\u001b[0m \u001b[0mnumber\u001b[0m \u001b[1;33m<\u001b[0m \u001b[1;36m10\u001b[0m\u001b[1;33m:\u001b[0m\u001b[1;33m\u001b[0m\u001b[1;33m\u001b[0m\u001b[0m\n\u001b[1;32m----> 4\u001b[1;33m     \u001b[1;32mraise\u001b[0m \u001b[0mCustomException\u001b[0m\u001b[1;33m(\u001b[0m\u001b[1;34m\"The number cannot be less than 10.\"\u001b[0m\u001b[1;33m)\u001b[0m\u001b[1;33m\u001b[0m\u001b[1;33m\u001b[0m\u001b[0m\n\u001b[0m",
      "\u001b[1;31mCustomException\u001b[0m: The number cannot be less than 10."
     ]
    }
   ],
   "source": [
    "number = int(input(\"Input a number: \"))\n",
    "\n",
    "if number < 10:\n",
    "    raise CustomException(\"The number cannot be less than 10.\")"
   ]
  },
  {
   "cell_type": "markdown",
   "id": "acute-stationery",
   "metadata": {},
   "source": [
    "**Question 53**"
   ]
  },
  {
   "cell_type": "markdown",
   "id": "secure-great",
   "metadata": {},
   "source": [
    "Assuming that we have some email addresses in the \"username@companyname.com\" format, please write a program to print the user name of a given email address. Both user names and company names are composed of letters only.\n",
    "\n",
    "Example: If the following email address is given as input to the program: john@google.com\n",
    "\n",
    "Then, the output of the program should be: john\n",
    "\n",
    "In case of input data being supplied to the question, it should be assumed to be a console input."
   ]
  },
  {
   "cell_type": "code",
   "execution_count": 18,
   "id": "simplified-relations",
   "metadata": {},
   "outputs": [
    {
     "name": "stdout",
     "output_type": "stream",
     "text": [
      "Please provide an email: john@google.com\n",
      "john\n"
     ]
    }
   ],
   "source": [
    "email = input(\"Please provide an email: \")\n",
    "\n",
    "print(email.split('@')[0])"
   ]
  },
  {
   "cell_type": "markdown",
   "id": "vulnerable-juice",
   "metadata": {},
   "source": [
    "### Day 15"
   ]
  },
  {
   "cell_type": "markdown",
   "id": "defined-alarm",
   "metadata": {},
   "source": [
    "**Question 54**"
   ]
  },
  {
   "cell_type": "markdown",
   "id": "exceptional-upper",
   "metadata": {},
   "source": [
    "Assuming that we have some email addresses in the \"username@companyname.com\" format, please write program to print the company name of a given email address. Both user names and company names are composed of letters only.\n",
    "\n",
    "Example: If the following email address is given as input to the program: john@google.com\n",
    "\n",
    "Then, the output of the program should be: google\n",
    "\n",
    "In case of input data being supplied to the question, it should be assumed to be a console input."
   ]
  },
  {
   "cell_type": "code",
   "execution_count": 19,
   "id": "reflected-anaheim",
   "metadata": {},
   "outputs": [
    {
     "name": "stdout",
     "output_type": "stream",
     "text": [
      "Please provide an email: john@google.com\n",
      "google\n"
     ]
    }
   ],
   "source": [
    "email = input(\"Please provide an email: \")\n",
    "\n",
    "first = email.split('@')[1]\n",
    "second = first.split(\".\")[0]\n",
    "\n",
    "print(second)"
   ]
  },
  {
   "cell_type": "code",
   "execution_count": 20,
   "id": "fallen-presentation",
   "metadata": {},
   "outputs": [
    {
     "name": "stdout",
     "output_type": "stream",
     "text": [
      "['google', 'python']\n"
     ]
    }
   ],
   "source": [
    "import re\n",
    "\n",
    "email = \"john@google.com elise@python.com\"\n",
    "pattern = \"\\w+@(\\w+).com\"\n",
    "answer = re.findall(pattern, email)\n",
    "print(answer)"
   ]
  },
  {
   "cell_type": "markdown",
   "id": "floral-administrator",
   "metadata": {},
   "source": [
    "**Question 55**"
   ]
  },
  {
   "cell_type": "markdown",
   "id": "inappropriate-advocate",
   "metadata": {},
   "source": [
    "Write a program which accepts a sequence of words separated by whitespace as input and prints the words composed of digits only.\n",
    "\n",
    "Example: If the following words are given as input to the program: 2 cats and 3 dogs.\n",
    "\n",
    "Then, the output of the program should be: ['2', '3']\n",
    "\n",
    "In case of input data being supplied to the question, it should be assumed to be a console input."
   ]
  },
  {
   "cell_type": "code",
   "execution_count": 21,
   "id": "registered-robinson",
   "metadata": {},
   "outputs": [
    {
     "name": "stdout",
     "output_type": "stream",
     "text": [
      "Please provide your words: 2 cats and 3 dogs\n",
      "['2', '3']\n"
     ]
    }
   ],
   "source": [
    "inputs = input(\"Please provide your words: \")\n",
    "\n",
    "inputs = inputs.split(' ')\n",
    "\n",
    "result = []\n",
    "for i in inputs:\n",
    "    try:\n",
    "        int(i)\n",
    "        result.append(i)\n",
    "    except: \n",
    "        pass\n",
    "    \n",
    "print(result)"
   ]
  },
  {
   "cell_type": "code",
   "execution_count": 22,
   "id": "extensive-explosion",
   "metadata": {},
   "outputs": [
    {
     "name": "stdout",
     "output_type": "stream",
     "text": [
      "2 cats and 3 dogs\n",
      "['2', '3']\n"
     ]
    }
   ],
   "source": [
    "import re\n",
    "\n",
    "inputs = input()\n",
    "pattern = \"\\d+\"\n",
    "answer = re.findall(pattern, inputs)\n",
    "print(answer)"
   ]
  },
  {
   "cell_type": "code",
   "execution_count": 23,
   "id": "searching-bulgaria",
   "metadata": {},
   "outputs": [
    {
     "name": "stdout",
     "output_type": "stream",
     "text": [
      "2 cats and 3 dogs\n",
      "['2', '3']\n"
     ]
    }
   ],
   "source": [
    "email = input().split()\n",
    "ans = [word for word in email if word.isdigit()]\n",
    "print(ans)"
   ]
  },
  {
   "cell_type": "markdown",
   "id": "liquid-colony",
   "metadata": {},
   "source": [
    "**Question 56**"
   ]
  },
  {
   "cell_type": "markdown",
   "id": "premium-trash",
   "metadata": {},
   "source": [
    "Print a unicode string \"hello world\"."
   ]
  },
  {
   "cell_type": "code",
   "execution_count": 24,
   "id": "divided-actress",
   "metadata": {},
   "outputs": [],
   "source": [
    "message = 'hello word'"
   ]
  },
  {
   "cell_type": "code",
   "execution_count": 25,
   "id": "caring-classics",
   "metadata": {},
   "outputs": [
    {
     "data": {
      "text/plain": [
       "['104', '101', '108', '108', '111', '32', '119', '111', '114', '100']"
      ]
     },
     "execution_count": 25,
     "metadata": {},
     "output_type": "execute_result"
    }
   ],
   "source": [
    "unicode = ' '.join('{}'.format(ord(letter)) for letter in message)\n",
    "unicode = unicode.split(' ')\n",
    "unicode"
   ]
  },
  {
   "cell_type": "code",
   "execution_count": 26,
   "id": "specific-houston",
   "metadata": {},
   "outputs": [
    {
     "data": {
      "text/plain": [
       "'hello word'"
      ]
     },
     "execution_count": 26,
     "metadata": {},
     "output_type": "execute_result"
    }
   ],
   "source": [
    "result = ''.join('{}'.format(chr(int(num))) for num in unicode)\n",
    "result"
   ]
  },
  {
   "cell_type": "code",
   "execution_count": 27,
   "id": "attractive-software",
   "metadata": {},
   "outputs": [
    {
     "name": "stdout",
     "output_type": "stream",
     "text": [
      "h\n"
     ]
    }
   ],
   "source": [
    "print(chr(104))"
   ]
  },
  {
   "cell_type": "markdown",
   "id": "underlying-committee",
   "metadata": {},
   "source": [
    "**Question 57**"
   ]
  },
  {
   "cell_type": "markdown",
   "id": "affiliated-campbell",
   "metadata": {},
   "source": [
    "Write a program to read an ASCII string and to convert it to a unicode string encoded by utf-8."
   ]
  },
  {
   "cell_type": "code",
   "execution_count": 28,
   "id": "average-birthday",
   "metadata": {},
   "outputs": [
    {
     "name": "stdout",
     "output_type": "stream",
     "text": [
      "Original message is:  My name is Ståle\n",
      "Encoded message is:  b'My name is St\\xc3\\xa5le'\n",
      "Decoded message is:  My name is Ståle\n"
     ]
    }
   ],
   "source": [
    "message = \"My name is Ståle\"\n",
    "print(\"Original message is: \", message)\n",
    "\n",
    "unicode = message.encode(\"utf-8\")\n",
    "print(\"Encoded message is: \", unicode)\n",
    "\n",
    "decoded = unicode.decode()\n",
    "print(\"Decoded message is: \", decoded)"
   ]
  },
  {
   "cell_type": "markdown",
   "id": "inappropriate-hygiene",
   "metadata": {},
   "source": [
    "**Question 58**"
   ]
  },
  {
   "cell_type": "markdown",
   "id": "amber-candle",
   "metadata": {},
   "source": [
    "Write a special comment to indicate a Python source code file is in unicode."
   ]
  },
  {
   "cell_type": "code",
   "execution_count": 29,
   "id": "modified-freight",
   "metadata": {},
   "outputs": [],
   "source": [
    "# -*- coding: utf-8 -*-"
   ]
  },
  {
   "cell_type": "markdown",
   "id": "precise-humanitarian",
   "metadata": {},
   "source": [
    "**Question 59**"
   ]
  },
  {
   "cell_type": "markdown",
   "id": "local-provincial",
   "metadata": {},
   "source": [
    "Write a program to compute 1/2+2/3+3/4+...+n/n+1 with a given n input by console (n>0).\n",
    "\n",
    "Example: If the following n is given as input to the program: \n",
    "\n",
    "5\n",
    "\n",
    "Then, the output of the program should be: \n",
    "\n",
    "3.55\n",
    "\n",
    "In case of input data being supplied to the question, it should be assumed to be a console input."
   ]
  },
  {
   "cell_type": "code",
   "execution_count": 30,
   "id": "progressive-gardening",
   "metadata": {},
   "outputs": [
    {
     "name": "stdout",
     "output_type": "stream",
     "text": [
      "Please input a number where n > 0: 5\n",
      "3.55\n"
     ]
    }
   ],
   "source": [
    "n = int(input(\"Please input a number where n > 0: \"))\n",
    "\n",
    "output = 0\n",
    "for i in range(n+1):\n",
    "    output += i/(i+1)\n",
    "\n",
    "print(round(output, 2))"
   ]
  }
 ],
 "metadata": {
  "kernelspec": {
   "display_name": "Python 3",
   "language": "python",
   "name": "python3"
  },
  "language_info": {
   "codemirror_mode": {
    "name": "ipython",
    "version": 3
   },
   "file_extension": ".py",
   "mimetype": "text/x-python",
   "name": "python",
   "nbconvert_exporter": "python",
   "pygments_lexer": "ipython3",
   "version": "3.8.3"
  },
  "toc": {
   "base_numbering": 1,
   "nav_menu": {},
   "number_sections": true,
   "sideBar": true,
   "skip_h1_title": false,
   "title_cell": "Table of Contents",
   "title_sidebar": "Contents",
   "toc_cell": false,
   "toc_position": {},
   "toc_section_display": true,
   "toc_window_display": false
  }
 },
 "nbformat": 4,
 "nbformat_minor": 5
}

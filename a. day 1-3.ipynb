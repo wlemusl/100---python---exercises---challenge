{
 "cells": [
  {
   "cell_type": "markdown",
   "id": "going-wedding",
   "metadata": {},
   "source": [
    "### Day 1"
   ]
  },
  {
   "cell_type": "markdown",
   "id": "wanted-convention",
   "metadata": {},
   "source": [
    "**Question 1**"
   ]
  },
  {
   "cell_type": "markdown",
   "id": "champion-spray",
   "metadata": {},
   "source": [
    "Write a program which will find all such numbers which are divisible by 7 but are not a multiple of 5, between 2000 and 3200 (both included).The numbers obtained should be printed in a comma-separated sequence on a single line."
   ]
  },
  {
   "cell_type": "code",
   "execution_count": 1,
   "id": "laughing-nothing",
   "metadata": {
    "scrolled": true
   },
   "outputs": [
    {
     "name": "stdout",
     "output_type": "stream",
     "text": [
      "2002, 2009, 2016, 2023, 2037, 2044, 2051, 2058, 2072, 2079, 2086, 2093, 2107, 2114, 2121, 2128, 2142, 2149, 2156, 2163, 2177, 2184, 2191, 2198, 2212, 2219, 2226, 2233, 2247, 2254, 2261, 2268, 2282, 2289, 2296, 2303, 2317, 2324, 2331, 2338, 2352, 2359, 2366, 2373, 2387, 2394, 2401, 2408, 2422, 2429, 2436, 2443, 2457, 2464, 2471, 2478, 2492, 2499, 2506, 2513, 2527, 2534, 2541, 2548, 2562, 2569, 2576, 2583, 2597, 2604, 2611, 2618, 2632, 2639, 2646, 2653, 2667, 2674, 2681, 2688, 2702, 2709, 2716, 2723, 2737, 2744, 2751, 2758, 2772, 2779, 2786, 2793, 2807, 2814, 2821, 2828, 2842, 2849, 2856, 2863, 2877, 2884, 2891, 2898, 2912, 2919, 2926, 2933, 2947, 2954, 2961, 2968, 2982, 2989, 2996, 3003, 3017, 3024, 3031, 3038, 3052, 3059, 3066, 3073, 3087, 3094, 3101, 3108, 3122, 3129, 3136, 3143, 3157, 3164, 3171, 3178, 3192, 3199, "
     ]
    }
   ],
   "source": [
    "for i in range(2000,3200):\n",
    "    if i%7==0 and i%5!=0:\n",
    "        print(i, end=', ')"
   ]
  },
  {
   "cell_type": "markdown",
   "id": "several-collector",
   "metadata": {},
   "source": [
    "**Question 2**"
   ]
  },
  {
   "cell_type": "markdown",
   "id": "separated-disposal",
   "metadata": {},
   "source": [
    "Write a program which can compute the factorial of a given number. The results should be printed in a comma-separated sequence on a single line. Suppose the following input is supplied to the program: 8, then, the output should be: 40320."
   ]
  },
  {
   "cell_type": "code",
   "execution_count": 2,
   "id": "indie-acrylic",
   "metadata": {},
   "outputs": [],
   "source": [
    "def factorial(number):\n",
    "    leftover = number\n",
    "    result = number\n",
    "    \n",
    "    if number == 0:\n",
    "        result = 1\n",
    "    else:\n",
    "        while leftover > 1:\n",
    "            result *= (leftover-1)\n",
    "            leftover -= 1  \n",
    "    return result"
   ]
  },
  {
   "cell_type": "code",
   "execution_count": 3,
   "id": "french-subdivision",
   "metadata": {},
   "outputs": [
    {
     "name": "stdout",
     "output_type": "stream",
     "text": [
      "40320\n",
      "120\n",
      "362880\n",
      "1\n"
     ]
    }
   ],
   "source": [
    "print(factorial(8))\n",
    "print(factorial(5))\n",
    "print(factorial(9))\n",
    "print(factorial(0))"
   ]
  },
  {
   "cell_type": "markdown",
   "id": "super-massage",
   "metadata": {},
   "source": [
    "**Question 3**"
   ]
  },
  {
   "cell_type": "markdown",
   "id": "serious-render",
   "metadata": {},
   "source": [
    "With a given integral number n, write a program to generate a dictionary that contains (i, i x i) such that is an integral number between 1 and n (both included). And then the program should print the dictionary. Suppose the following input is supplied to the program: 8..."
   ]
  },
  {
   "cell_type": "markdown",
   "id": "persistent-scottish",
   "metadata": {},
   "source": [
    "Then, the output should be:"
   ]
  },
  {
   "cell_type": "markdown",
   "id": "matched-concern",
   "metadata": {},
   "source": [
    "{1: 1, 2: 4, 3: 9, 4: 16, 5: 25, 6: 36, 7: 49, 8: 64}"
   ]
  },
  {
   "cell_type": "code",
   "execution_count": 4,
   "id": "extra-verse",
   "metadata": {},
   "outputs": [
    {
     "name": "stdout",
     "output_type": "stream",
     "text": [
      "Input your integral number: 8\n",
      "{1: 1, 2: 4, 3: 9, 4: 16, 5: 25, 6: 36, 7: 49, 8: 64}\n"
     ]
    }
   ],
   "source": [
    "n = int(input(\"Input your integral number: \"))\n",
    "d = {}\n",
    "\n",
    "for i in range(1, n+1):\n",
    "    d[i] = i*i\n",
    "\n",
    "print(d)"
   ]
  },
  {
   "cell_type": "markdown",
   "id": "alternate-temple",
   "metadata": {},
   "source": [
    "### Day 2"
   ]
  },
  {
   "cell_type": "markdown",
   "id": "acting-bacteria",
   "metadata": {},
   "source": [
    "**Question 4**"
   ]
  },
  {
   "cell_type": "markdown",
   "id": "covered-ranking",
   "metadata": {},
   "source": [
    "Write a program which accepts a sequence of comma-separated numbers from console and generate a list and a tuple which contains every number. Suppose the following input is supplied to the program: 34,67,55,33,12,98..."
   ]
  },
  {
   "cell_type": "markdown",
   "id": "chief-belize",
   "metadata": {},
   "source": [
    "Then, the output should be:"
   ]
  },
  {
   "cell_type": "markdown",
   "id": "searching-registrar",
   "metadata": {},
   "source": [
    "['34', '67', '55', '33', '12', '98'] ('34', '67', '55', '33', '12', '98')"
   ]
  },
  {
   "cell_type": "code",
   "execution_count": 5,
   "id": "united-graduate",
   "metadata": {},
   "outputs": [
    {
     "name": "stdout",
     "output_type": "stream",
     "text": [
      "Input a sequence of comma-separated numbers: 34,67,55,33,12,98\n",
      "['34', '67', '55', '33', '12', '98'] ('34', '67', '55', '33', '12', '98')\n"
     ]
    }
   ],
   "source": [
    "s = input(\"Input a sequence of comma-separated numbers: \")\n",
    "s_list = s.split(\",\")\n",
    "s_tuple = tuple(s.split(\",\"))\n",
    "print(s_list, s_tuple)"
   ]
  },
  {
   "cell_type": "markdown",
   "id": "flush-robin",
   "metadata": {},
   "source": [
    "**Question 5**"
   ]
  },
  {
   "cell_type": "markdown",
   "id": "proprietary-framing",
   "metadata": {},
   "source": [
    "Define a class which has at least two methods:\n",
    "\n",
    "1. getString: to get a string from console input.\n",
    "2. printString: to print the string in upper case.\n",
    "\n",
    "Include a simple test function to test the methods."
   ]
  },
  {
   "cell_type": "code",
   "execution_count": 6,
   "id": "distant-details",
   "metadata": {},
   "outputs": [],
   "source": [
    "class TextString():\n",
    "    \"\"\"A class to work with strings.\"\"\"\n",
    "    \n",
    "    def __init__(self):\n",
    "        self.string = ''\n",
    "        \n",
    "    def getString(self):\n",
    "        self.string = input(\"Input your string: \")\n",
    "        \n",
    "    def printString(self):\n",
    "        print(self.string.upper())"
   ]
  },
  {
   "cell_type": "code",
   "execution_count": 7,
   "id": "imperial-stuart",
   "metadata": {},
   "outputs": [
    {
     "name": "stdout",
     "output_type": "stream",
     "text": [
      "Input your string: hello\n",
      "HELLO\n"
     ]
    }
   ],
   "source": [
    "x = TextString()\n",
    "x.getString()\n",
    "x.printString()"
   ]
  },
  {
   "cell_type": "markdown",
   "id": "editorial-coalition",
   "metadata": {},
   "source": [
    "**Question 6**"
   ]
  },
  {
   "cell_type": "markdown",
   "id": "decreased-person",
   "metadata": {},
   "source": [
    "Write a program that calculates and prints the value according to the given formula:"
   ]
  },
  {
   "cell_type": "markdown",
   "id": "hearing-album",
   "metadata": {},
   "source": [
    "Q = Square root of [(2 C D)/H]"
   ]
  },
  {
   "cell_type": "markdown",
   "id": "magnetic-johns",
   "metadata": {},
   "source": [
    "Following are the fixed values: C is 50, H is 30."
   ]
  },
  {
   "cell_type": "markdown",
   "id": "assisted-maximum",
   "metadata": {},
   "source": [
    "D is the variable whose values should be input in a comma-separated sequence. For example, let us assume the following sequence is given to the program:"
   ]
  },
  {
   "cell_type": "markdown",
   "id": "described-paraguay",
   "metadata": {},
   "source": [
    "100, 150, 180"
   ]
  },
  {
   "cell_type": "markdown",
   "id": "dependent-command",
   "metadata": {},
   "source": [
    "The output of the program should be:"
   ]
  },
  {
   "cell_type": "markdown",
   "id": "minor-vitamin",
   "metadata": {},
   "source": [
    "18, 22, 24"
   ]
  },
  {
   "cell_type": "markdown",
   "id": "celtic-queens",
   "metadata": {},
   "source": [
    "If the output received is in a decimal form, it should be rounded off to its nearest value. For example, if the output is 26.0, it should be printed as 26."
   ]
  },
  {
   "cell_type": "code",
   "execution_count": 8,
   "id": "still-tennis",
   "metadata": {},
   "outputs": [],
   "source": [
    "def q_formula(C=50, H=30):\n",
    "    from math import sqrt\n",
    "    seq = input(\"Input a sequence of numbers: \")\n",
    "    D = seq.split(\",\")\n",
    "    Q = []\n",
    "    \n",
    "    for num in D:\n",
    "        num = int(num)\n",
    "        q = str(round(sqrt((2*C*num)/H)))\n",
    "        Q.append(q)\n",
    "    \n",
    "    return print(\",\".join(Q))"
   ]
  },
  {
   "cell_type": "code",
   "execution_count": 9,
   "id": "radical-german",
   "metadata": {},
   "outputs": [
    {
     "name": "stdout",
     "output_type": "stream",
     "text": [
      "Input a sequence of numbers: 100, 150, 180\n",
      "18,22,24\n"
     ]
    }
   ],
   "source": [
    "q_formula()"
   ]
  },
  {
   "cell_type": "markdown",
   "id": "unauthorized-mailman",
   "metadata": {},
   "source": [
    "**Question 7**"
   ]
  },
  {
   "cell_type": "markdown",
   "id": "referenced-yugoslavia",
   "metadata": {},
   "source": [
    "Write a program which takes 2 digits, X,Y as input and generates a 2-dimensional array. The element value in the i-th row and j-th column of the array should be i*j."
   ]
  },
  {
   "cell_type": "markdown",
   "id": "differential-future",
   "metadata": {},
   "source": [
    "Note: i=0,1.., X-1; j=0,1,¡­Y-1. Suppose the following inputs are given to the program: 3,5..."
   ]
  },
  {
   "cell_type": "markdown",
   "id": "varying-contract",
   "metadata": {},
   "source": [
    "Then, the output of the program should be:"
   ]
  },
  {
   "cell_type": "markdown",
   "id": "warming-module",
   "metadata": {},
   "source": [
    "[[0, 0, 0, 0, 0], [0, 1, 2, 3, 4], [0, 2, 4, 6, 8]]"
   ]
  },
  {
   "cell_type": "code",
   "execution_count": 10,
   "id": "growing-battlefield",
   "metadata": {},
   "outputs": [
    {
     "name": "stdout",
     "output_type": "stream",
     "text": [
      "Input two numbers in a comma-separated form: 3,5\n",
      "[[0, 0, 0, 0, 0], [0, 1, 2, 3, 4], [0, 2, 4, 6, 8]]\n"
     ]
    }
   ],
   "source": [
    "inputs = input(\"Input two numbers in a comma-separated form: \")\n",
    "\n",
    "x, y = inputs.split(\",\")\n",
    "x, y = int(x), int(y)\n",
    "\n",
    "b_array = []\n",
    "\n",
    "for i in range(x):\n",
    "    l_array = []\n",
    "    for j in range(y):\n",
    "        l_array.append(i*j)\n",
    "    b_array.append(l_array)\n",
    "print(b_array)"
   ]
  },
  {
   "cell_type": "markdown",
   "id": "regional-million",
   "metadata": {},
   "source": [
    "**Question 8**"
   ]
  },
  {
   "cell_type": "markdown",
   "id": "minute-philip",
   "metadata": {},
   "source": [
    "Write a program that accepts a comma separated sequence of words as input and prints the words in a comma-separated sequence after sorting them alphabetically."
   ]
  },
  {
   "cell_type": "markdown",
   "id": "sudden-raising",
   "metadata": {},
   "source": [
    "Suppose the following input is supplied to the program:"
   ]
  },
  {
   "cell_type": "markdown",
   "id": "accurate-sierra",
   "metadata": {},
   "source": [
    "without,hello,bag,world"
   ]
  },
  {
   "cell_type": "markdown",
   "id": "otherwise-opportunity",
   "metadata": {},
   "source": [
    "Then, the output should be: "
   ]
  },
  {
   "cell_type": "markdown",
   "id": "representative-optimum",
   "metadata": {},
   "source": [
    "bag,hello,without,world"
   ]
  },
  {
   "cell_type": "code",
   "execution_count": 11,
   "id": "floral-passport",
   "metadata": {},
   "outputs": [
    {
     "name": "stdout",
     "output_type": "stream",
     "text": [
      "Input a comma-separated sequence of words: without,hello,bag,world\n",
      "bag,hello,without,world\n"
     ]
    }
   ],
   "source": [
    "inputs = list(map(str, input(\"Input a comma-separated sequence of words: \").split(\",\")))\n",
    "result = sorted(inputs)\n",
    "print(\",\".join(result))"
   ]
  },
  {
   "cell_type": "markdown",
   "id": "guilty-accommodation",
   "metadata": {},
   "source": [
    "**Question 9**"
   ]
  },
  {
   "cell_type": "markdown",
   "id": "verified-revolution",
   "metadata": {},
   "source": [
    "Write a program that accepts sequence of lines as input and prints the lines after making all characters in the sentence capitalized.\n",
    "\n",
    "Suppose the following input is supplied to the program:"
   ]
  },
  {
   "cell_type": "markdown",
   "id": "ranging-sheffield",
   "metadata": {},
   "source": [
    "Hello world"
   ]
  },
  {
   "cell_type": "markdown",
   "id": "approved-virgin",
   "metadata": {},
   "source": [
    "Practice makes perfect"
   ]
  },
  {
   "cell_type": "markdown",
   "id": "dominant-understanding",
   "metadata": {},
   "source": [
    "Then, the output should be:"
   ]
  },
  {
   "cell_type": "markdown",
   "id": "expired-scope",
   "metadata": {},
   "source": [
    "HELLO WORLD\n",
    "\n",
    "PRACTICE MAKES PERFECT"
   ]
  },
  {
   "cell_type": "code",
   "execution_count": 12,
   "id": "given-district",
   "metadata": {},
   "outputs": [
    {
     "name": "stdout",
     "output_type": "stream",
     "text": [
      "Input a sequence: Hello world\n",
      "Press c to continue or q to quit: c\n",
      "Input a sequence: Practice makes perfect\n",
      "Press c to continue or q to quit: q\n",
      "\n",
      "\n",
      "HELLO WORLD\n",
      "\n",
      "\n",
      "PRACTICE MAKES PERFECT\n",
      "\n",
      "\n"
     ]
    }
   ],
   "source": [
    "sequences = []\n",
    "while True:\n",
    "    sequence = input(\"Input a sequence: \")\n",
    "    sequences.append(sequence)\n",
    "    stay_quit = input(\"Press c to continue or q to quit: \")\n",
    "    if stay_quit == \"q\" or stay_quit == 'quit':\n",
    "        break\n",
    "\n",
    "print('\\n')\n",
    "for sequence in sequences:\n",
    "    print(sequence.upper())\n",
    "    print('\\n')"
   ]
  },
  {
   "cell_type": "markdown",
   "id": "liable-murray",
   "metadata": {},
   "source": [
    "### Day 3"
   ]
  },
  {
   "cell_type": "markdown",
   "id": "narrative-dragon",
   "metadata": {},
   "source": [
    "**Question 10**"
   ]
  },
  {
   "cell_type": "markdown",
   "id": "infectious-union",
   "metadata": {},
   "source": [
    "Write a program that accepts a sequence of whitespace separated words as input and prints the words after removing all duplicate words and sorting them alphanumerically.\n",
    "\n",
    "Suppose the following input is supplied to the program:"
   ]
  },
  {
   "cell_type": "markdown",
   "id": "alert-format",
   "metadata": {},
   "source": [
    "\"hello world and practice makes perfect and hello world again\""
   ]
  },
  {
   "cell_type": "markdown",
   "id": "affecting-limit",
   "metadata": {},
   "source": [
    "Then, the output should be:"
   ]
  },
  {
   "cell_type": "markdown",
   "id": "accompanied-pointer",
   "metadata": {},
   "source": [
    "\"again and hello makes perfect practice world\""
   ]
  },
  {
   "cell_type": "code",
   "execution_count": 13,
   "id": "unable-advertising",
   "metadata": {},
   "outputs": [
    {
     "name": "stdout",
     "output_type": "stream",
     "text": [
      "Input a sequence of whitespace separated words: hello world and practice makes perfect and hello world again\n",
      "again and hello makes perfect practice world\n"
     ]
    }
   ],
   "source": [
    "inputs = list(map(str, input(\"Input a sequence of whitespace separated words: \").split()))\n",
    "x = set(inputs)\n",
    "y = sorted(x)\n",
    "print(\" \".join(y))"
   ]
  },
  {
   "cell_type": "markdown",
   "id": "ancient-polymer",
   "metadata": {},
   "source": [
    "**Question 11**"
   ]
  },
  {
   "cell_type": "markdown",
   "id": "critical-newfoundland",
   "metadata": {},
   "source": [
    "Write a program which accepts a sequence of comma separated 4 digit binary numbers as its input and then check whether they are divisible by 5 or not. The numbers that are divisible by 5 are to be printed in a comma separated sequence. Example:"
   ]
  },
  {
   "cell_type": "markdown",
   "id": "virtual-conspiracy",
   "metadata": {},
   "source": [
    "0100,0011,1010,1001"
   ]
  },
  {
   "cell_type": "markdown",
   "id": "addressed-rings",
   "metadata": {},
   "source": [
    "Then the output should be:"
   ]
  },
  {
   "cell_type": "markdown",
   "id": "compatible-indiana",
   "metadata": {},
   "source": [
    "1010"
   ]
  },
  {
   "cell_type": "code",
   "execution_count": 14,
   "id": "municipal-sender",
   "metadata": {},
   "outputs": [
    {
     "name": "stdout",
     "output_type": "stream",
     "text": [
      "Input a sequence of comma separated 4 digit binary numbers: 0100,0011,1010,1001\n",
      "1010\n"
     ]
    }
   ],
   "source": [
    "inputs = list(map(str, input(\"Input a sequence of comma separated 4 digit binary numbers: \").split(\",\")))\n",
    "\n",
    "result = []\n",
    "for data in inputs:\n",
    "    if data[0] != '0' and int(data)%5 == 0:\n",
    "        result.append(str(data))\n",
    "\n",
    "print(\",\".join(result))"
   ]
  },
  {
   "cell_type": "markdown",
   "id": "third-homework",
   "metadata": {},
   "source": [
    "**Question 12**"
   ]
  },
  {
   "cell_type": "markdown",
   "id": "innocent-assignment",
   "metadata": {},
   "source": [
    "Write a program, which will find all such numbers between 1000 and 3000 (both included) such that each digit of the number is an even number.The numbers obtained should be printed in a comma-separated sequence on a single line."
   ]
  },
  {
   "cell_type": "code",
   "execution_count": 15,
   "id": "animal-forth",
   "metadata": {},
   "outputs": [
    {
     "name": "stdout",
     "output_type": "stream",
     "text": [
      "2000,2002,2004,2006,2008,2020,2022,2024,2026,2028,2040,2042,2044,2046,2048,2060,2062,2064,2066,2068,2080,2082,2084,2086,2088,2200,2202,2204,2206,2208,2220,2222,2224,2226,2228,2240,2242,2244,2246,2248,2260,2262,2264,2266,2268,2280,2282,2284,2286,2288,2400,2402,2404,2406,2408,2420,2422,2424,2426,2428,2440,2442,2444,2446,2448,2460,2462,2464,2466,2468,2480,2482,2484,2486,2488,2600,2602,2604,2606,2608,2620,2622,2624,2626,2628,2640,2642,2644,2646,2648,2660,2662,2664,2666,2668,2680,2682,2684,2686,2688,2800,2802,2804,2806,2808,2820,2822,2824,2826,2828,2840,2842,2844,2846,2848,2860,2862,2864,2866,2868,2880,2882,2884,2886,2888\n"
     ]
    }
   ],
   "source": [
    "results = []\n",
    "\n",
    "for i in range(1000,3001):\n",
    "    number = str(i)\n",
    "    flag = 1\n",
    "    for num in number:\n",
    "        digit = int(num)\n",
    "        if digit%2 != 0:\n",
    "            flag = 0\n",
    "    if flag == 1:\n",
    "        results.append(str(i))\n",
    "        \n",
    "print(\",\".join(results))"
   ]
  },
  {
   "cell_type": "markdown",
   "id": "simple-electron",
   "metadata": {},
   "source": [
    "**Question 13**"
   ]
  },
  {
   "cell_type": "markdown",
   "id": "included-protocol",
   "metadata": {},
   "source": [
    "Write a program that accepts a sentence and calculate the number of letters and digits.\n",
    "\n",
    "Suppose the following input is supplied to the program: "
   ]
  },
  {
   "cell_type": "markdown",
   "id": "sixth-indianapolis",
   "metadata": {},
   "source": [
    "hello world! 123"
   ]
  },
  {
   "cell_type": "markdown",
   "id": "altered-province",
   "metadata": {},
   "source": [
    "Then, the output should be:"
   ]
  },
  {
   "cell_type": "markdown",
   "id": "graduate-puppy",
   "metadata": {},
   "source": [
    "Letters: 10\n",
    "\n",
    "Digits: 3"
   ]
  },
  {
   "cell_type": "code",
   "execution_count": 16,
   "id": "protective-yemen",
   "metadata": {},
   "outputs": [
    {
     "name": "stdout",
     "output_type": "stream",
     "text": [
      "Input a sentence with letters and digits: hello world! 123\n",
      "Letters:  10\n",
      "Digits:  3\n"
     ]
    }
   ],
   "source": [
    "inputs = input(\"Input a sentence with letters and digits: \")\n",
    "\n",
    "letters = 0\n",
    "digits = 0\n",
    "\n",
    "for i in inputs:\n",
    "    try:\n",
    "        int(i)\n",
    "        digits +=1\n",
    "    except:\n",
    "        if (\"a\" <= i and i <= \"z\") or (\"A\" <= i and i <= \"Z\"):\n",
    "            letters += 1\n",
    "        \n",
    "print(\"Letters: \", letters)\n",
    "print(\"Digits: \", digits)\n",
    "\n",
    "# you can also use isalpha() or isnumeric(). "
   ]
  }
 ],
 "metadata": {
  "kernelspec": {
   "display_name": "Python 3",
   "language": "python",
   "name": "python3"
  },
  "language_info": {
   "codemirror_mode": {
    "name": "ipython",
    "version": 3
   },
   "file_extension": ".py",
   "mimetype": "text/x-python",
   "name": "python",
   "nbconvert_exporter": "python",
   "pygments_lexer": "ipython3",
   "version": "3.8.3"
  },
  "toc": {
   "base_numbering": 1,
   "nav_menu": {},
   "number_sections": true,
   "sideBar": true,
   "skip_h1_title": false,
   "title_cell": "Table of Contents",
   "title_sidebar": "Contents",
   "toc_cell": false,
   "toc_position": {},
   "toc_section_display": true,
   "toc_window_display": false
  }
 },
 "nbformat": 4,
 "nbformat_minor": 5
}
